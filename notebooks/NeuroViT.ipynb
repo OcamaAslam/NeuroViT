{
  "nbformat": 4,
  "nbformat_minor": 0,
  "metadata": {
    "colab": {
      "provenance": [],
      "gpuType": "T4"
    },
    "kernelspec": {
      "name": "python3",
      "display_name": "Python 3"
    },
    "language_info": {
      "name": "python"
    },
    "widgets": {
      "application/vnd.jupyter.widget-state+json": {
        "6b70915698fa4fe68260af8690e5e448": {
          "model_module": "@jupyter-widgets/controls",
          "model_name": "HBoxModel",
          "model_module_version": "1.5.0",
          "state": {
            "_dom_classes": [],
            "_model_module": "@jupyter-widgets/controls",
            "_model_module_version": "1.5.0",
            "_model_name": "HBoxModel",
            "_view_count": null,
            "_view_module": "@jupyter-widgets/controls",
            "_view_module_version": "1.5.0",
            "_view_name": "HBoxView",
            "box_style": "",
            "children": [
              "IPY_MODEL_a19bb0a0477f4011878bf527488d9152",
              "IPY_MODEL_2b14c75473e044519073b21cd5d95993",
              "IPY_MODEL_dac61c236baa42a79d6747b0a822587d"
            ],
            "layout": "IPY_MODEL_e9f7b3f5139c48e3b138538e7fefe5b8"
          }
        },
        "a19bb0a0477f4011878bf527488d9152": {
          "model_module": "@jupyter-widgets/controls",
          "model_name": "HTMLModel",
          "model_module_version": "1.5.0",
          "state": {
            "_dom_classes": [],
            "_model_module": "@jupyter-widgets/controls",
            "_model_module_version": "1.5.0",
            "_model_name": "HTMLModel",
            "_view_count": null,
            "_view_module": "@jupyter-widgets/controls",
            "_view_module_version": "1.5.0",
            "_view_name": "HTMLView",
            "description": "",
            "description_tooltip": null,
            "layout": "IPY_MODEL_1fadcf7cbcdc477a8ebc654efc36ed67",
            "placeholder": "​",
            "style": "IPY_MODEL_83595b95556f4aa6a2fe3d2fb6a4fd9d",
            "value": "README.md: 100%"
          }
        },
        "2b14c75473e044519073b21cd5d95993": {
          "model_module": "@jupyter-widgets/controls",
          "model_name": "FloatProgressModel",
          "model_module_version": "1.5.0",
          "state": {
            "_dom_classes": [],
            "_model_module": "@jupyter-widgets/controls",
            "_model_module_version": "1.5.0",
            "_model_name": "FloatProgressModel",
            "_view_count": null,
            "_view_module": "@jupyter-widgets/controls",
            "_view_module_version": "1.5.0",
            "_view_name": "ProgressView",
            "bar_style": "success",
            "description": "",
            "description_tooltip": null,
            "layout": "IPY_MODEL_eacb292c00fa49febf88c20a0ab43176",
            "max": 3941,
            "min": 0,
            "orientation": "horizontal",
            "style": "IPY_MODEL_c303b00722e443c0875d968898a7d7cf",
            "value": 3941
          }
        },
        "dac61c236baa42a79d6747b0a822587d": {
          "model_module": "@jupyter-widgets/controls",
          "model_name": "HTMLModel",
          "model_module_version": "1.5.0",
          "state": {
            "_dom_classes": [],
            "_model_module": "@jupyter-widgets/controls",
            "_model_module_version": "1.5.0",
            "_model_name": "HTMLModel",
            "_view_count": null,
            "_view_module": "@jupyter-widgets/controls",
            "_view_module_version": "1.5.0",
            "_view_name": "HTMLView",
            "description": "",
            "description_tooltip": null,
            "layout": "IPY_MODEL_7b0f46f4328941358b411220de71d652",
            "placeholder": "​",
            "style": "IPY_MODEL_a8d90f39f5954a79bf8c3570252501a7",
            "value": " 3.94k/3.94k [00:00&lt;00:00, 74.4kB/s]"
          }
        },
        "e9f7b3f5139c48e3b138538e7fefe5b8": {
          "model_module": "@jupyter-widgets/base",
          "model_name": "LayoutModel",
          "model_module_version": "1.2.0",
          "state": {
            "_model_module": "@jupyter-widgets/base",
            "_model_module_version": "1.2.0",
            "_model_name": "LayoutModel",
            "_view_count": null,
            "_view_module": "@jupyter-widgets/base",
            "_view_module_version": "1.2.0",
            "_view_name": "LayoutView",
            "align_content": null,
            "align_items": null,
            "align_self": null,
            "border": null,
            "bottom": null,
            "display": null,
            "flex": null,
            "flex_flow": null,
            "grid_area": null,
            "grid_auto_columns": null,
            "grid_auto_flow": null,
            "grid_auto_rows": null,
            "grid_column": null,
            "grid_gap": null,
            "grid_row": null,
            "grid_template_areas": null,
            "grid_template_columns": null,
            "grid_template_rows": null,
            "height": null,
            "justify_content": null,
            "justify_items": null,
            "left": null,
            "margin": null,
            "max_height": null,
            "max_width": null,
            "min_height": null,
            "min_width": null,
            "object_fit": null,
            "object_position": null,
            "order": null,
            "overflow": null,
            "overflow_x": null,
            "overflow_y": null,
            "padding": null,
            "right": null,
            "top": null,
            "visibility": null,
            "width": null
          }
        },
        "1fadcf7cbcdc477a8ebc654efc36ed67": {
          "model_module": "@jupyter-widgets/base",
          "model_name": "LayoutModel",
          "model_module_version": "1.2.0",
          "state": {
            "_model_module": "@jupyter-widgets/base",
            "_model_module_version": "1.2.0",
            "_model_name": "LayoutModel",
            "_view_count": null,
            "_view_module": "@jupyter-widgets/base",
            "_view_module_version": "1.2.0",
            "_view_name": "LayoutView",
            "align_content": null,
            "align_items": null,
            "align_self": null,
            "border": null,
            "bottom": null,
            "display": null,
            "flex": null,
            "flex_flow": null,
            "grid_area": null,
            "grid_auto_columns": null,
            "grid_auto_flow": null,
            "grid_auto_rows": null,
            "grid_column": null,
            "grid_gap": null,
            "grid_row": null,
            "grid_template_areas": null,
            "grid_template_columns": null,
            "grid_template_rows": null,
            "height": null,
            "justify_content": null,
            "justify_items": null,
            "left": null,
            "margin": null,
            "max_height": null,
            "max_width": null,
            "min_height": null,
            "min_width": null,
            "object_fit": null,
            "object_position": null,
            "order": null,
            "overflow": null,
            "overflow_x": null,
            "overflow_y": null,
            "padding": null,
            "right": null,
            "top": null,
            "visibility": null,
            "width": null
          }
        },
        "83595b95556f4aa6a2fe3d2fb6a4fd9d": {
          "model_module": "@jupyter-widgets/controls",
          "model_name": "DescriptionStyleModel",
          "model_module_version": "1.5.0",
          "state": {
            "_model_module": "@jupyter-widgets/controls",
            "_model_module_version": "1.5.0",
            "_model_name": "DescriptionStyleModel",
            "_view_count": null,
            "_view_module": "@jupyter-widgets/base",
            "_view_module_version": "1.2.0",
            "_view_name": "StyleView",
            "description_width": ""
          }
        },
        "eacb292c00fa49febf88c20a0ab43176": {
          "model_module": "@jupyter-widgets/base",
          "model_name": "LayoutModel",
          "model_module_version": "1.2.0",
          "state": {
            "_model_module": "@jupyter-widgets/base",
            "_model_module_version": "1.2.0",
            "_model_name": "LayoutModel",
            "_view_count": null,
            "_view_module": "@jupyter-widgets/base",
            "_view_module_version": "1.2.0",
            "_view_name": "LayoutView",
            "align_content": null,
            "align_items": null,
            "align_self": null,
            "border": null,
            "bottom": null,
            "display": null,
            "flex": null,
            "flex_flow": null,
            "grid_area": null,
            "grid_auto_columns": null,
            "grid_auto_flow": null,
            "grid_auto_rows": null,
            "grid_column": null,
            "grid_gap": null,
            "grid_row": null,
            "grid_template_areas": null,
            "grid_template_columns": null,
            "grid_template_rows": null,
            "height": null,
            "justify_content": null,
            "justify_items": null,
            "left": null,
            "margin": null,
            "max_height": null,
            "max_width": null,
            "min_height": null,
            "min_width": null,
            "object_fit": null,
            "object_position": null,
            "order": null,
            "overflow": null,
            "overflow_x": null,
            "overflow_y": null,
            "padding": null,
            "right": null,
            "top": null,
            "visibility": null,
            "width": null
          }
        },
        "c303b00722e443c0875d968898a7d7cf": {
          "model_module": "@jupyter-widgets/controls",
          "model_name": "ProgressStyleModel",
          "model_module_version": "1.5.0",
          "state": {
            "_model_module": "@jupyter-widgets/controls",
            "_model_module_version": "1.5.0",
            "_model_name": "ProgressStyleModel",
            "_view_count": null,
            "_view_module": "@jupyter-widgets/base",
            "_view_module_version": "1.2.0",
            "_view_name": "StyleView",
            "bar_color": null,
            "description_width": ""
          }
        },
        "7b0f46f4328941358b411220de71d652": {
          "model_module": "@jupyter-widgets/base",
          "model_name": "LayoutModel",
          "model_module_version": "1.2.0",
          "state": {
            "_model_module": "@jupyter-widgets/base",
            "_model_module_version": "1.2.0",
            "_model_name": "LayoutModel",
            "_view_count": null,
            "_view_module": "@jupyter-widgets/base",
            "_view_module_version": "1.2.0",
            "_view_name": "LayoutView",
            "align_content": null,
            "align_items": null,
            "align_self": null,
            "border": null,
            "bottom": null,
            "display": null,
            "flex": null,
            "flex_flow": null,
            "grid_area": null,
            "grid_auto_columns": null,
            "grid_auto_flow": null,
            "grid_auto_rows": null,
            "grid_column": null,
            "grid_gap": null,
            "grid_row": null,
            "grid_template_areas": null,
            "grid_template_columns": null,
            "grid_template_rows": null,
            "height": null,
            "justify_content": null,
            "justify_items": null,
            "left": null,
            "margin": null,
            "max_height": null,
            "max_width": null,
            "min_height": null,
            "min_width": null,
            "object_fit": null,
            "object_position": null,
            "order": null,
            "overflow": null,
            "overflow_x": null,
            "overflow_y": null,
            "padding": null,
            "right": null,
            "top": null,
            "visibility": null,
            "width": null
          }
        },
        "a8d90f39f5954a79bf8c3570252501a7": {
          "model_module": "@jupyter-widgets/controls",
          "model_name": "DescriptionStyleModel",
          "model_module_version": "1.5.0",
          "state": {
            "_model_module": "@jupyter-widgets/controls",
            "_model_module_version": "1.5.0",
            "_model_name": "DescriptionStyleModel",
            "_view_count": null,
            "_view_module": "@jupyter-widgets/base",
            "_view_module_version": "1.2.0",
            "_view_name": "StyleView",
            "description_width": ""
          }
        },
        "b5376263bef74d888633fd6763f704a7": {
          "model_module": "@jupyter-widgets/controls",
          "model_name": "HBoxModel",
          "model_module_version": "1.5.0",
          "state": {
            "_dom_classes": [],
            "_model_module": "@jupyter-widgets/controls",
            "_model_module_version": "1.5.0",
            "_model_name": "HBoxModel",
            "_view_count": null,
            "_view_module": "@jupyter-widgets/controls",
            "_view_module_version": "1.5.0",
            "_view_name": "HBoxView",
            "box_style": "",
            "children": [
              "IPY_MODEL_468bbecf38404fdaa947b2dd88ef61c5",
              "IPY_MODEL_91d0f7ad07744f59aa7ba3c77b8a6262",
              "IPY_MODEL_31858d5d26a847ef9d7ff09f8dc201c5"
            ],
            "layout": "IPY_MODEL_e51fb39db13d46ce9be75c3eed93e1f6"
          }
        },
        "468bbecf38404fdaa947b2dd88ef61c5": {
          "model_module": "@jupyter-widgets/controls",
          "model_name": "HTMLModel",
          "model_module_version": "1.5.0",
          "state": {
            "_dom_classes": [],
            "_model_module": "@jupyter-widgets/controls",
            "_model_module_version": "1.5.0",
            "_model_name": "HTMLModel",
            "_view_count": null,
            "_view_module": "@jupyter-widgets/controls",
            "_view_module_version": "1.5.0",
            "_view_name": "HTMLView",
            "description": "",
            "description_tooltip": null,
            "layout": "IPY_MODEL_eee634e885cd40e38af94bdc95f93a45",
            "placeholder": "​",
            "style": "IPY_MODEL_8a29b20f9faf45a0a13af037db1163f1",
            "value": "train-00000-of-00002.parquet: 100%"
          }
        },
        "91d0f7ad07744f59aa7ba3c77b8a6262": {
          "model_module": "@jupyter-widgets/controls",
          "model_name": "FloatProgressModel",
          "model_module_version": "1.5.0",
          "state": {
            "_dom_classes": [],
            "_model_module": "@jupyter-widgets/controls",
            "_model_module_version": "1.5.0",
            "_model_name": "FloatProgressModel",
            "_view_count": null,
            "_view_module": "@jupyter-widgets/controls",
            "_view_module_version": "1.5.0",
            "_view_name": "ProgressView",
            "bar_style": "success",
            "description": "",
            "description_tooltip": null,
            "layout": "IPY_MODEL_db27f1caed0b44ea9fdd606c661ecbd3",
            "max": 288188173,
            "min": 0,
            "orientation": "horizontal",
            "style": "IPY_MODEL_8a31a9e02d314196812a36ee03f55d15",
            "value": 288188173
          }
        },
        "31858d5d26a847ef9d7ff09f8dc201c5": {
          "model_module": "@jupyter-widgets/controls",
          "model_name": "HTMLModel",
          "model_module_version": "1.5.0",
          "state": {
            "_dom_classes": [],
            "_model_module": "@jupyter-widgets/controls",
            "_model_module_version": "1.5.0",
            "_model_name": "HTMLModel",
            "_view_count": null,
            "_view_module": "@jupyter-widgets/controls",
            "_view_module_version": "1.5.0",
            "_view_name": "HTMLView",
            "description": "",
            "description_tooltip": null,
            "layout": "IPY_MODEL_2b0fbfaf7b7549dd9bc7e31e7f329717",
            "placeholder": "​",
            "style": "IPY_MODEL_9dfe5325091947648f8c482e1536d279",
            "value": " 288M/288M [00:01&lt;00:00, 164MB/s]"
          }
        },
        "e51fb39db13d46ce9be75c3eed93e1f6": {
          "model_module": "@jupyter-widgets/base",
          "model_name": "LayoutModel",
          "model_module_version": "1.2.0",
          "state": {
            "_model_module": "@jupyter-widgets/base",
            "_model_module_version": "1.2.0",
            "_model_name": "LayoutModel",
            "_view_count": null,
            "_view_module": "@jupyter-widgets/base",
            "_view_module_version": "1.2.0",
            "_view_name": "LayoutView",
            "align_content": null,
            "align_items": null,
            "align_self": null,
            "border": null,
            "bottom": null,
            "display": null,
            "flex": null,
            "flex_flow": null,
            "grid_area": null,
            "grid_auto_columns": null,
            "grid_auto_flow": null,
            "grid_auto_rows": null,
            "grid_column": null,
            "grid_gap": null,
            "grid_row": null,
            "grid_template_areas": null,
            "grid_template_columns": null,
            "grid_template_rows": null,
            "height": null,
            "justify_content": null,
            "justify_items": null,
            "left": null,
            "margin": null,
            "max_height": null,
            "max_width": null,
            "min_height": null,
            "min_width": null,
            "object_fit": null,
            "object_position": null,
            "order": null,
            "overflow": null,
            "overflow_x": null,
            "overflow_y": null,
            "padding": null,
            "right": null,
            "top": null,
            "visibility": null,
            "width": null
          }
        },
        "eee634e885cd40e38af94bdc95f93a45": {
          "model_module": "@jupyter-widgets/base",
          "model_name": "LayoutModel",
          "model_module_version": "1.2.0",
          "state": {
            "_model_module": "@jupyter-widgets/base",
            "_model_module_version": "1.2.0",
            "_model_name": "LayoutModel",
            "_view_count": null,
            "_view_module": "@jupyter-widgets/base",
            "_view_module_version": "1.2.0",
            "_view_name": "LayoutView",
            "align_content": null,
            "align_items": null,
            "align_self": null,
            "border": null,
            "bottom": null,
            "display": null,
            "flex": null,
            "flex_flow": null,
            "grid_area": null,
            "grid_auto_columns": null,
            "grid_auto_flow": null,
            "grid_auto_rows": null,
            "grid_column": null,
            "grid_gap": null,
            "grid_row": null,
            "grid_template_areas": null,
            "grid_template_columns": null,
            "grid_template_rows": null,
            "height": null,
            "justify_content": null,
            "justify_items": null,
            "left": null,
            "margin": null,
            "max_height": null,
            "max_width": null,
            "min_height": null,
            "min_width": null,
            "object_fit": null,
            "object_position": null,
            "order": null,
            "overflow": null,
            "overflow_x": null,
            "overflow_y": null,
            "padding": null,
            "right": null,
            "top": null,
            "visibility": null,
            "width": null
          }
        },
        "8a29b20f9faf45a0a13af037db1163f1": {
          "model_module": "@jupyter-widgets/controls",
          "model_name": "DescriptionStyleModel",
          "model_module_version": "1.5.0",
          "state": {
            "_model_module": "@jupyter-widgets/controls",
            "_model_module_version": "1.5.0",
            "_model_name": "DescriptionStyleModel",
            "_view_count": null,
            "_view_module": "@jupyter-widgets/base",
            "_view_module_version": "1.2.0",
            "_view_name": "StyleView",
            "description_width": ""
          }
        },
        "db27f1caed0b44ea9fdd606c661ecbd3": {
          "model_module": "@jupyter-widgets/base",
          "model_name": "LayoutModel",
          "model_module_version": "1.2.0",
          "state": {
            "_model_module": "@jupyter-widgets/base",
            "_model_module_version": "1.2.0",
            "_model_name": "LayoutModel",
            "_view_count": null,
            "_view_module": "@jupyter-widgets/base",
            "_view_module_version": "1.2.0",
            "_view_name": "LayoutView",
            "align_content": null,
            "align_items": null,
            "align_self": null,
            "border": null,
            "bottom": null,
            "display": null,
            "flex": null,
            "flex_flow": null,
            "grid_area": null,
            "grid_auto_columns": null,
            "grid_auto_flow": null,
            "grid_auto_rows": null,
            "grid_column": null,
            "grid_gap": null,
            "grid_row": null,
            "grid_template_areas": null,
            "grid_template_columns": null,
            "grid_template_rows": null,
            "height": null,
            "justify_content": null,
            "justify_items": null,
            "left": null,
            "margin": null,
            "max_height": null,
            "max_width": null,
            "min_height": null,
            "min_width": null,
            "object_fit": null,
            "object_position": null,
            "order": null,
            "overflow": null,
            "overflow_x": null,
            "overflow_y": null,
            "padding": null,
            "right": null,
            "top": null,
            "visibility": null,
            "width": null
          }
        },
        "8a31a9e02d314196812a36ee03f55d15": {
          "model_module": "@jupyter-widgets/controls",
          "model_name": "ProgressStyleModel",
          "model_module_version": "1.5.0",
          "state": {
            "_model_module": "@jupyter-widgets/controls",
            "_model_module_version": "1.5.0",
            "_model_name": "ProgressStyleModel",
            "_view_count": null,
            "_view_module": "@jupyter-widgets/base",
            "_view_module_version": "1.2.0",
            "_view_name": "StyleView",
            "bar_color": null,
            "description_width": ""
          }
        },
        "2b0fbfaf7b7549dd9bc7e31e7f329717": {
          "model_module": "@jupyter-widgets/base",
          "model_name": "LayoutModel",
          "model_module_version": "1.2.0",
          "state": {
            "_model_module": "@jupyter-widgets/base",
            "_model_module_version": "1.2.0",
            "_model_name": "LayoutModel",
            "_view_count": null,
            "_view_module": "@jupyter-widgets/base",
            "_view_module_version": "1.2.0",
            "_view_name": "LayoutView",
            "align_content": null,
            "align_items": null,
            "align_self": null,
            "border": null,
            "bottom": null,
            "display": null,
            "flex": null,
            "flex_flow": null,
            "grid_area": null,
            "grid_auto_columns": null,
            "grid_auto_flow": null,
            "grid_auto_rows": null,
            "grid_column": null,
            "grid_gap": null,
            "grid_row": null,
            "grid_template_areas": null,
            "grid_template_columns": null,
            "grid_template_rows": null,
            "height": null,
            "justify_content": null,
            "justify_items": null,
            "left": null,
            "margin": null,
            "max_height": null,
            "max_width": null,
            "min_height": null,
            "min_width": null,
            "object_fit": null,
            "object_position": null,
            "order": null,
            "overflow": null,
            "overflow_x": null,
            "overflow_y": null,
            "padding": null,
            "right": null,
            "top": null,
            "visibility": null,
            "width": null
          }
        },
        "9dfe5325091947648f8c482e1536d279": {
          "model_module": "@jupyter-widgets/controls",
          "model_name": "DescriptionStyleModel",
          "model_module_version": "1.5.0",
          "state": {
            "_model_module": "@jupyter-widgets/controls",
            "_model_module_version": "1.5.0",
            "_model_name": "DescriptionStyleModel",
            "_view_count": null,
            "_view_module": "@jupyter-widgets/base",
            "_view_module_version": "1.2.0",
            "_view_name": "StyleView",
            "description_width": ""
          }
        },
        "972a424790dd4e5c8937911da1abbb83": {
          "model_module": "@jupyter-widgets/controls",
          "model_name": "HBoxModel",
          "model_module_version": "1.5.0",
          "state": {
            "_dom_classes": [],
            "_model_module": "@jupyter-widgets/controls",
            "_model_module_version": "1.5.0",
            "_model_name": "HBoxModel",
            "_view_count": null,
            "_view_module": "@jupyter-widgets/controls",
            "_view_module_version": "1.5.0",
            "_view_name": "HBoxView",
            "box_style": "",
            "children": [
              "IPY_MODEL_86aedaf1caae4023ae9cd81a584cc80b",
              "IPY_MODEL_a62189d794ff40c2986fbc929b88bb46",
              "IPY_MODEL_db4775fce39648b9957a0bfe9aa2b039"
            ],
            "layout": "IPY_MODEL_2be32760942a4fc59229c74c06c9486d"
          }
        },
        "86aedaf1caae4023ae9cd81a584cc80b": {
          "model_module": "@jupyter-widgets/controls",
          "model_name": "HTMLModel",
          "model_module_version": "1.5.0",
          "state": {
            "_dom_classes": [],
            "_model_module": "@jupyter-widgets/controls",
            "_model_module_version": "1.5.0",
            "_model_name": "HTMLModel",
            "_view_count": null,
            "_view_module": "@jupyter-widgets/controls",
            "_view_module_version": "1.5.0",
            "_view_name": "HTMLView",
            "description": "",
            "description_tooltip": null,
            "layout": "IPY_MODEL_105ad5c67dd9402eafb567c90d51d44f",
            "placeholder": "​",
            "style": "IPY_MODEL_ba9d1c9b9bc043c890787d4e53218d1a",
            "value": "train-00001-of-00002.parquet: 100%"
          }
        },
        "a62189d794ff40c2986fbc929b88bb46": {
          "model_module": "@jupyter-widgets/controls",
          "model_name": "FloatProgressModel",
          "model_module_version": "1.5.0",
          "state": {
            "_dom_classes": [],
            "_model_module": "@jupyter-widgets/controls",
            "_model_module_version": "1.5.0",
            "_model_name": "FloatProgressModel",
            "_view_count": null,
            "_view_module": "@jupyter-widgets/controls",
            "_view_module_version": "1.5.0",
            "_view_name": "ProgressView",
            "bar_style": "success",
            "description": "",
            "description_tooltip": null,
            "layout": "IPY_MODEL_3deb32c7fa454374b3063fdacd7d8620",
            "max": 290542946,
            "min": 0,
            "orientation": "horizontal",
            "style": "IPY_MODEL_46d16753437542d08e0d1847af269613",
            "value": 290542946
          }
        },
        "db4775fce39648b9957a0bfe9aa2b039": {
          "model_module": "@jupyter-widgets/controls",
          "model_name": "HTMLModel",
          "model_module_version": "1.5.0",
          "state": {
            "_dom_classes": [],
            "_model_module": "@jupyter-widgets/controls",
            "_model_module_version": "1.5.0",
            "_model_name": "HTMLModel",
            "_view_count": null,
            "_view_module": "@jupyter-widgets/controls",
            "_view_module_version": "1.5.0",
            "_view_name": "HTMLView",
            "description": "",
            "description_tooltip": null,
            "layout": "IPY_MODEL_6f8e962d9f9846d5b8c99718036390fd",
            "placeholder": "​",
            "style": "IPY_MODEL_6df2c736b59349359e517006a97ff7a2",
            "value": " 291M/291M [00:01&lt;00:00, 221MB/s]"
          }
        },
        "2be32760942a4fc59229c74c06c9486d": {
          "model_module": "@jupyter-widgets/base",
          "model_name": "LayoutModel",
          "model_module_version": "1.2.0",
          "state": {
            "_model_module": "@jupyter-widgets/base",
            "_model_module_version": "1.2.0",
            "_model_name": "LayoutModel",
            "_view_count": null,
            "_view_module": "@jupyter-widgets/base",
            "_view_module_version": "1.2.0",
            "_view_name": "LayoutView",
            "align_content": null,
            "align_items": null,
            "align_self": null,
            "border": null,
            "bottom": null,
            "display": null,
            "flex": null,
            "flex_flow": null,
            "grid_area": null,
            "grid_auto_columns": null,
            "grid_auto_flow": null,
            "grid_auto_rows": null,
            "grid_column": null,
            "grid_gap": null,
            "grid_row": null,
            "grid_template_areas": null,
            "grid_template_columns": null,
            "grid_template_rows": null,
            "height": null,
            "justify_content": null,
            "justify_items": null,
            "left": null,
            "margin": null,
            "max_height": null,
            "max_width": null,
            "min_height": null,
            "min_width": null,
            "object_fit": null,
            "object_position": null,
            "order": null,
            "overflow": null,
            "overflow_x": null,
            "overflow_y": null,
            "padding": null,
            "right": null,
            "top": null,
            "visibility": null,
            "width": null
          }
        },
        "105ad5c67dd9402eafb567c90d51d44f": {
          "model_module": "@jupyter-widgets/base",
          "model_name": "LayoutModel",
          "model_module_version": "1.2.0",
          "state": {
            "_model_module": "@jupyter-widgets/base",
            "_model_module_version": "1.2.0",
            "_model_name": "LayoutModel",
            "_view_count": null,
            "_view_module": "@jupyter-widgets/base",
            "_view_module_version": "1.2.0",
            "_view_name": "LayoutView",
            "align_content": null,
            "align_items": null,
            "align_self": null,
            "border": null,
            "bottom": null,
            "display": null,
            "flex": null,
            "flex_flow": null,
            "grid_area": null,
            "grid_auto_columns": null,
            "grid_auto_flow": null,
            "grid_auto_rows": null,
            "grid_column": null,
            "grid_gap": null,
            "grid_row": null,
            "grid_template_areas": null,
            "grid_template_columns": null,
            "grid_template_rows": null,
            "height": null,
            "justify_content": null,
            "justify_items": null,
            "left": null,
            "margin": null,
            "max_height": null,
            "max_width": null,
            "min_height": null,
            "min_width": null,
            "object_fit": null,
            "object_position": null,
            "order": null,
            "overflow": null,
            "overflow_x": null,
            "overflow_y": null,
            "padding": null,
            "right": null,
            "top": null,
            "visibility": null,
            "width": null
          }
        },
        "ba9d1c9b9bc043c890787d4e53218d1a": {
          "model_module": "@jupyter-widgets/controls",
          "model_name": "DescriptionStyleModel",
          "model_module_version": "1.5.0",
          "state": {
            "_model_module": "@jupyter-widgets/controls",
            "_model_module_version": "1.5.0",
            "_model_name": "DescriptionStyleModel",
            "_view_count": null,
            "_view_module": "@jupyter-widgets/base",
            "_view_module_version": "1.2.0",
            "_view_name": "StyleView",
            "description_width": ""
          }
        },
        "3deb32c7fa454374b3063fdacd7d8620": {
          "model_module": "@jupyter-widgets/base",
          "model_name": "LayoutModel",
          "model_module_version": "1.2.0",
          "state": {
            "_model_module": "@jupyter-widgets/base",
            "_model_module_version": "1.2.0",
            "_model_name": "LayoutModel",
            "_view_count": null,
            "_view_module": "@jupyter-widgets/base",
            "_view_module_version": "1.2.0",
            "_view_name": "LayoutView",
            "align_content": null,
            "align_items": null,
            "align_self": null,
            "border": null,
            "bottom": null,
            "display": null,
            "flex": null,
            "flex_flow": null,
            "grid_area": null,
            "grid_auto_columns": null,
            "grid_auto_flow": null,
            "grid_auto_rows": null,
            "grid_column": null,
            "grid_gap": null,
            "grid_row": null,
            "grid_template_areas": null,
            "grid_template_columns": null,
            "grid_template_rows": null,
            "height": null,
            "justify_content": null,
            "justify_items": null,
            "left": null,
            "margin": null,
            "max_height": null,
            "max_width": null,
            "min_height": null,
            "min_width": null,
            "object_fit": null,
            "object_position": null,
            "order": null,
            "overflow": null,
            "overflow_x": null,
            "overflow_y": null,
            "padding": null,
            "right": null,
            "top": null,
            "visibility": null,
            "width": null
          }
        },
        "46d16753437542d08e0d1847af269613": {
          "model_module": "@jupyter-widgets/controls",
          "model_name": "ProgressStyleModel",
          "model_module_version": "1.5.0",
          "state": {
            "_model_module": "@jupyter-widgets/controls",
            "_model_module_version": "1.5.0",
            "_model_name": "ProgressStyleModel",
            "_view_count": null,
            "_view_module": "@jupyter-widgets/base",
            "_view_module_version": "1.2.0",
            "_view_name": "StyleView",
            "bar_color": null,
            "description_width": ""
          }
        },
        "6f8e962d9f9846d5b8c99718036390fd": {
          "model_module": "@jupyter-widgets/base",
          "model_name": "LayoutModel",
          "model_module_version": "1.2.0",
          "state": {
            "_model_module": "@jupyter-widgets/base",
            "_model_module_version": "1.2.0",
            "_model_name": "LayoutModel",
            "_view_count": null,
            "_view_module": "@jupyter-widgets/base",
            "_view_module_version": "1.2.0",
            "_view_name": "LayoutView",
            "align_content": null,
            "align_items": null,
            "align_self": null,
            "border": null,
            "bottom": null,
            "display": null,
            "flex": null,
            "flex_flow": null,
            "grid_area": null,
            "grid_auto_columns": null,
            "grid_auto_flow": null,
            "grid_auto_rows": null,
            "grid_column": null,
            "grid_gap": null,
            "grid_row": null,
            "grid_template_areas": null,
            "grid_template_columns": null,
            "grid_template_rows": null,
            "height": null,
            "justify_content": null,
            "justify_items": null,
            "left": null,
            "margin": null,
            "max_height": null,
            "max_width": null,
            "min_height": null,
            "min_width": null,
            "object_fit": null,
            "object_position": null,
            "order": null,
            "overflow": null,
            "overflow_x": null,
            "overflow_y": null,
            "padding": null,
            "right": null,
            "top": null,
            "visibility": null,
            "width": null
          }
        },
        "6df2c736b59349359e517006a97ff7a2": {
          "model_module": "@jupyter-widgets/controls",
          "model_name": "DescriptionStyleModel",
          "model_module_version": "1.5.0",
          "state": {
            "_model_module": "@jupyter-widgets/controls",
            "_model_module_version": "1.5.0",
            "_model_name": "DescriptionStyleModel",
            "_view_count": null,
            "_view_module": "@jupyter-widgets/base",
            "_view_module_version": "1.2.0",
            "_view_name": "StyleView",
            "description_width": ""
          }
        },
        "95b6f73a76ed4ff2af73195c8d717f2b": {
          "model_module": "@jupyter-widgets/controls",
          "model_name": "HBoxModel",
          "model_module_version": "1.5.0",
          "state": {
            "_dom_classes": [],
            "_model_module": "@jupyter-widgets/controls",
            "_model_module_version": "1.5.0",
            "_model_name": "HBoxModel",
            "_view_count": null,
            "_view_module": "@jupyter-widgets/controls",
            "_view_module_version": "1.5.0",
            "_view_name": "HBoxView",
            "box_style": "",
            "children": [
              "IPY_MODEL_0c09ab8ade5d4394a7ef40b3ffe95ba2",
              "IPY_MODEL_62167e4dbb3243aa8bb9b65c9edb99f2",
              "IPY_MODEL_552920690a2c4b759a6a8b4371377784"
            ],
            "layout": "IPY_MODEL_866874da398640ed96f39c1e88e0d927"
          }
        },
        "0c09ab8ade5d4394a7ef40b3ffe95ba2": {
          "model_module": "@jupyter-widgets/controls",
          "model_name": "HTMLModel",
          "model_module_version": "1.5.0",
          "state": {
            "_dom_classes": [],
            "_model_module": "@jupyter-widgets/controls",
            "_model_module_version": "1.5.0",
            "_model_name": "HTMLModel",
            "_view_count": null,
            "_view_module": "@jupyter-widgets/controls",
            "_view_module_version": "1.5.0",
            "_view_name": "HTMLView",
            "description": "",
            "description_tooltip": null,
            "layout": "IPY_MODEL_eca938de93434cb2845251775e976457",
            "placeholder": "​",
            "style": "IPY_MODEL_8252343db1f746dca1a8074b02d7836f",
            "value": "Generating train split: 100%"
          }
        },
        "62167e4dbb3243aa8bb9b65c9edb99f2": {
          "model_module": "@jupyter-widgets/controls",
          "model_name": "FloatProgressModel",
          "model_module_version": "1.5.0",
          "state": {
            "_dom_classes": [],
            "_model_module": "@jupyter-widgets/controls",
            "_model_module_version": "1.5.0",
            "_model_name": "FloatProgressModel",
            "_view_count": null,
            "_view_module": "@jupyter-widgets/controls",
            "_view_module_version": "1.5.0",
            "_view_name": "ProgressView",
            "bar_style": "success",
            "description": "",
            "description_tooltip": null,
            "layout": "IPY_MODEL_40a7176df48f4baeab8dee581f28160b",
            "max": 7369,
            "min": 0,
            "orientation": "horizontal",
            "style": "IPY_MODEL_41de0fab1a2044bfba8ca342a5f0bbbf",
            "value": 7369
          }
        },
        "552920690a2c4b759a6a8b4371377784": {
          "model_module": "@jupyter-widgets/controls",
          "model_name": "HTMLModel",
          "model_module_version": "1.5.0",
          "state": {
            "_dom_classes": [],
            "_model_module": "@jupyter-widgets/controls",
            "_model_module_version": "1.5.0",
            "_model_name": "HTMLModel",
            "_view_count": null,
            "_view_module": "@jupyter-widgets/controls",
            "_view_module_version": "1.5.0",
            "_view_name": "HTMLView",
            "description": "",
            "description_tooltip": null,
            "layout": "IPY_MODEL_b6d57db95abb4a1693d58bf32ed42346",
            "placeholder": "​",
            "style": "IPY_MODEL_cc886d5e625d4b2885f30d04b849ce00",
            "value": " 7369/7369 [00:02&lt;00:00, 4329.72 examples/s]"
          }
        },
        "866874da398640ed96f39c1e88e0d927": {
          "model_module": "@jupyter-widgets/base",
          "model_name": "LayoutModel",
          "model_module_version": "1.2.0",
          "state": {
            "_model_module": "@jupyter-widgets/base",
            "_model_module_version": "1.2.0",
            "_model_name": "LayoutModel",
            "_view_count": null,
            "_view_module": "@jupyter-widgets/base",
            "_view_module_version": "1.2.0",
            "_view_name": "LayoutView",
            "align_content": null,
            "align_items": null,
            "align_self": null,
            "border": null,
            "bottom": null,
            "display": null,
            "flex": null,
            "flex_flow": null,
            "grid_area": null,
            "grid_auto_columns": null,
            "grid_auto_flow": null,
            "grid_auto_rows": null,
            "grid_column": null,
            "grid_gap": null,
            "grid_row": null,
            "grid_template_areas": null,
            "grid_template_columns": null,
            "grid_template_rows": null,
            "height": null,
            "justify_content": null,
            "justify_items": null,
            "left": null,
            "margin": null,
            "max_height": null,
            "max_width": null,
            "min_height": null,
            "min_width": null,
            "object_fit": null,
            "object_position": null,
            "order": null,
            "overflow": null,
            "overflow_x": null,
            "overflow_y": null,
            "padding": null,
            "right": null,
            "top": null,
            "visibility": null,
            "width": null
          }
        },
        "eca938de93434cb2845251775e976457": {
          "model_module": "@jupyter-widgets/base",
          "model_name": "LayoutModel",
          "model_module_version": "1.2.0",
          "state": {
            "_model_module": "@jupyter-widgets/base",
            "_model_module_version": "1.2.0",
            "_model_name": "LayoutModel",
            "_view_count": null,
            "_view_module": "@jupyter-widgets/base",
            "_view_module_version": "1.2.0",
            "_view_name": "LayoutView",
            "align_content": null,
            "align_items": null,
            "align_self": null,
            "border": null,
            "bottom": null,
            "display": null,
            "flex": null,
            "flex_flow": null,
            "grid_area": null,
            "grid_auto_columns": null,
            "grid_auto_flow": null,
            "grid_auto_rows": null,
            "grid_column": null,
            "grid_gap": null,
            "grid_row": null,
            "grid_template_areas": null,
            "grid_template_columns": null,
            "grid_template_rows": null,
            "height": null,
            "justify_content": null,
            "justify_items": null,
            "left": null,
            "margin": null,
            "max_height": null,
            "max_width": null,
            "min_height": null,
            "min_width": null,
            "object_fit": null,
            "object_position": null,
            "order": null,
            "overflow": null,
            "overflow_x": null,
            "overflow_y": null,
            "padding": null,
            "right": null,
            "top": null,
            "visibility": null,
            "width": null
          }
        },
        "8252343db1f746dca1a8074b02d7836f": {
          "model_module": "@jupyter-widgets/controls",
          "model_name": "DescriptionStyleModel",
          "model_module_version": "1.5.0",
          "state": {
            "_model_module": "@jupyter-widgets/controls",
            "_model_module_version": "1.5.0",
            "_model_name": "DescriptionStyleModel",
            "_view_count": null,
            "_view_module": "@jupyter-widgets/base",
            "_view_module_version": "1.2.0",
            "_view_name": "StyleView",
            "description_width": ""
          }
        },
        "40a7176df48f4baeab8dee581f28160b": {
          "model_module": "@jupyter-widgets/base",
          "model_name": "LayoutModel",
          "model_module_version": "1.2.0",
          "state": {
            "_model_module": "@jupyter-widgets/base",
            "_model_module_version": "1.2.0",
            "_model_name": "LayoutModel",
            "_view_count": null,
            "_view_module": "@jupyter-widgets/base",
            "_view_module_version": "1.2.0",
            "_view_name": "LayoutView",
            "align_content": null,
            "align_items": null,
            "align_self": null,
            "border": null,
            "bottom": null,
            "display": null,
            "flex": null,
            "flex_flow": null,
            "grid_area": null,
            "grid_auto_columns": null,
            "grid_auto_flow": null,
            "grid_auto_rows": null,
            "grid_column": null,
            "grid_gap": null,
            "grid_row": null,
            "grid_template_areas": null,
            "grid_template_columns": null,
            "grid_template_rows": null,
            "height": null,
            "justify_content": null,
            "justify_items": null,
            "left": null,
            "margin": null,
            "max_height": null,
            "max_width": null,
            "min_height": null,
            "min_width": null,
            "object_fit": null,
            "object_position": null,
            "order": null,
            "overflow": null,
            "overflow_x": null,
            "overflow_y": null,
            "padding": null,
            "right": null,
            "top": null,
            "visibility": null,
            "width": null
          }
        },
        "41de0fab1a2044bfba8ca342a5f0bbbf": {
          "model_module": "@jupyter-widgets/controls",
          "model_name": "ProgressStyleModel",
          "model_module_version": "1.5.0",
          "state": {
            "_model_module": "@jupyter-widgets/controls",
            "_model_module_version": "1.5.0",
            "_model_name": "ProgressStyleModel",
            "_view_count": null,
            "_view_module": "@jupyter-widgets/base",
            "_view_module_version": "1.2.0",
            "_view_name": "StyleView",
            "bar_color": null,
            "description_width": ""
          }
        },
        "b6d57db95abb4a1693d58bf32ed42346": {
          "model_module": "@jupyter-widgets/base",
          "model_name": "LayoutModel",
          "model_module_version": "1.2.0",
          "state": {
            "_model_module": "@jupyter-widgets/base",
            "_model_module_version": "1.2.0",
            "_model_name": "LayoutModel",
            "_view_count": null,
            "_view_module": "@jupyter-widgets/base",
            "_view_module_version": "1.2.0",
            "_view_name": "LayoutView",
            "align_content": null,
            "align_items": null,
            "align_self": null,
            "border": null,
            "bottom": null,
            "display": null,
            "flex": null,
            "flex_flow": null,
            "grid_area": null,
            "grid_auto_columns": null,
            "grid_auto_flow": null,
            "grid_auto_rows": null,
            "grid_column": null,
            "grid_gap": null,
            "grid_row": null,
            "grid_template_areas": null,
            "grid_template_columns": null,
            "grid_template_rows": null,
            "height": null,
            "justify_content": null,
            "justify_items": null,
            "left": null,
            "margin": null,
            "max_height": null,
            "max_width": null,
            "min_height": null,
            "min_width": null,
            "object_fit": null,
            "object_position": null,
            "order": null,
            "overflow": null,
            "overflow_x": null,
            "overflow_y": null,
            "padding": null,
            "right": null,
            "top": null,
            "visibility": null,
            "width": null
          }
        },
        "cc886d5e625d4b2885f30d04b849ce00": {
          "model_module": "@jupyter-widgets/controls",
          "model_name": "DescriptionStyleModel",
          "model_module_version": "1.5.0",
          "state": {
            "_model_module": "@jupyter-widgets/controls",
            "_model_module_version": "1.5.0",
            "_model_name": "DescriptionStyleModel",
            "_view_count": null,
            "_view_module": "@jupyter-widgets/base",
            "_view_module_version": "1.2.0",
            "_view_name": "StyleView",
            "description_width": ""
          }
        },
        "1260d96a8dd94df3a78ef8ecc055a8dc": {
          "model_module": "@jupyter-widgets/controls",
          "model_name": "HBoxModel",
          "model_module_version": "1.5.0",
          "state": {
            "_dom_classes": [],
            "_model_module": "@jupyter-widgets/controls",
            "_model_module_version": "1.5.0",
            "_model_name": "HBoxModel",
            "_view_count": null,
            "_view_module": "@jupyter-widgets/controls",
            "_view_module_version": "1.5.0",
            "_view_name": "HBoxView",
            "box_style": "",
            "children": [
              "IPY_MODEL_8de0c22c530e4901a1cfd24f1b66881a",
              "IPY_MODEL_542969124aee4901ae13be28e4a7cd9f",
              "IPY_MODEL_0888ffbf8d024dcba7e3ae7ec33178b7"
            ],
            "layout": "IPY_MODEL_485ee215dcdd466bb72521276a71daf7"
          }
        },
        "8de0c22c530e4901a1cfd24f1b66881a": {
          "model_module": "@jupyter-widgets/controls",
          "model_name": "HTMLModel",
          "model_module_version": "1.5.0",
          "state": {
            "_dom_classes": [],
            "_model_module": "@jupyter-widgets/controls",
            "_model_module_version": "1.5.0",
            "_model_name": "HTMLModel",
            "_view_count": null,
            "_view_module": "@jupyter-widgets/controls",
            "_view_module_version": "1.5.0",
            "_view_name": "HTMLView",
            "description": "",
            "description_tooltip": null,
            "layout": "IPY_MODEL_d89cbc23858f49489df7b197f26eb0a3",
            "placeholder": "​",
            "style": "IPY_MODEL_3e6c1a0e0eaf4cf8b1fe7b7d62907dd7",
            "value": "preprocessor_config.json: 100%"
          }
        },
        "542969124aee4901ae13be28e4a7cd9f": {
          "model_module": "@jupyter-widgets/controls",
          "model_name": "FloatProgressModel",
          "model_module_version": "1.5.0",
          "state": {
            "_dom_classes": [],
            "_model_module": "@jupyter-widgets/controls",
            "_model_module_version": "1.5.0",
            "_model_name": "FloatProgressModel",
            "_view_count": null,
            "_view_module": "@jupyter-widgets/controls",
            "_view_module_version": "1.5.0",
            "_view_name": "ProgressView",
            "bar_style": "success",
            "description": "",
            "description_tooltip": null,
            "layout": "IPY_MODEL_72d840de5cb84bb9a857f1b6689e2ec8",
            "max": 160,
            "min": 0,
            "orientation": "horizontal",
            "style": "IPY_MODEL_839ef34b67d84a3f84441f01808a7c66",
            "value": 160
          }
        },
        "0888ffbf8d024dcba7e3ae7ec33178b7": {
          "model_module": "@jupyter-widgets/controls",
          "model_name": "HTMLModel",
          "model_module_version": "1.5.0",
          "state": {
            "_dom_classes": [],
            "_model_module": "@jupyter-widgets/controls",
            "_model_module_version": "1.5.0",
            "_model_name": "HTMLModel",
            "_view_count": null,
            "_view_module": "@jupyter-widgets/controls",
            "_view_module_version": "1.5.0",
            "_view_name": "HTMLView",
            "description": "",
            "description_tooltip": null,
            "layout": "IPY_MODEL_b0edd7c2c2da49fdb6131c1249c8821c",
            "placeholder": "​",
            "style": "IPY_MODEL_2b2c5be7ec5d4e499d04f9882501be00",
            "value": " 160/160 [00:00&lt;00:00, 15.9kB/s]"
          }
        },
        "485ee215dcdd466bb72521276a71daf7": {
          "model_module": "@jupyter-widgets/base",
          "model_name": "LayoutModel",
          "model_module_version": "1.2.0",
          "state": {
            "_model_module": "@jupyter-widgets/base",
            "_model_module_version": "1.2.0",
            "_model_name": "LayoutModel",
            "_view_count": null,
            "_view_module": "@jupyter-widgets/base",
            "_view_module_version": "1.2.0",
            "_view_name": "LayoutView",
            "align_content": null,
            "align_items": null,
            "align_self": null,
            "border": null,
            "bottom": null,
            "display": null,
            "flex": null,
            "flex_flow": null,
            "grid_area": null,
            "grid_auto_columns": null,
            "grid_auto_flow": null,
            "grid_auto_rows": null,
            "grid_column": null,
            "grid_gap": null,
            "grid_row": null,
            "grid_template_areas": null,
            "grid_template_columns": null,
            "grid_template_rows": null,
            "height": null,
            "justify_content": null,
            "justify_items": null,
            "left": null,
            "margin": null,
            "max_height": null,
            "max_width": null,
            "min_height": null,
            "min_width": null,
            "object_fit": null,
            "object_position": null,
            "order": null,
            "overflow": null,
            "overflow_x": null,
            "overflow_y": null,
            "padding": null,
            "right": null,
            "top": null,
            "visibility": null,
            "width": null
          }
        },
        "d89cbc23858f49489df7b197f26eb0a3": {
          "model_module": "@jupyter-widgets/base",
          "model_name": "LayoutModel",
          "model_module_version": "1.2.0",
          "state": {
            "_model_module": "@jupyter-widgets/base",
            "_model_module_version": "1.2.0",
            "_model_name": "LayoutModel",
            "_view_count": null,
            "_view_module": "@jupyter-widgets/base",
            "_view_module_version": "1.2.0",
            "_view_name": "LayoutView",
            "align_content": null,
            "align_items": null,
            "align_self": null,
            "border": null,
            "bottom": null,
            "display": null,
            "flex": null,
            "flex_flow": null,
            "grid_area": null,
            "grid_auto_columns": null,
            "grid_auto_flow": null,
            "grid_auto_rows": null,
            "grid_column": null,
            "grid_gap": null,
            "grid_row": null,
            "grid_template_areas": null,
            "grid_template_columns": null,
            "grid_template_rows": null,
            "height": null,
            "justify_content": null,
            "justify_items": null,
            "left": null,
            "margin": null,
            "max_height": null,
            "max_width": null,
            "min_height": null,
            "min_width": null,
            "object_fit": null,
            "object_position": null,
            "order": null,
            "overflow": null,
            "overflow_x": null,
            "overflow_y": null,
            "padding": null,
            "right": null,
            "top": null,
            "visibility": null,
            "width": null
          }
        },
        "3e6c1a0e0eaf4cf8b1fe7b7d62907dd7": {
          "model_module": "@jupyter-widgets/controls",
          "model_name": "DescriptionStyleModel",
          "model_module_version": "1.5.0",
          "state": {
            "_model_module": "@jupyter-widgets/controls",
            "_model_module_version": "1.5.0",
            "_model_name": "DescriptionStyleModel",
            "_view_count": null,
            "_view_module": "@jupyter-widgets/base",
            "_view_module_version": "1.2.0",
            "_view_name": "StyleView",
            "description_width": ""
          }
        },
        "72d840de5cb84bb9a857f1b6689e2ec8": {
          "model_module": "@jupyter-widgets/base",
          "model_name": "LayoutModel",
          "model_module_version": "1.2.0",
          "state": {
            "_model_module": "@jupyter-widgets/base",
            "_model_module_version": "1.2.0",
            "_model_name": "LayoutModel",
            "_view_count": null,
            "_view_module": "@jupyter-widgets/base",
            "_view_module_version": "1.2.0",
            "_view_name": "LayoutView",
            "align_content": null,
            "align_items": null,
            "align_self": null,
            "border": null,
            "bottom": null,
            "display": null,
            "flex": null,
            "flex_flow": null,
            "grid_area": null,
            "grid_auto_columns": null,
            "grid_auto_flow": null,
            "grid_auto_rows": null,
            "grid_column": null,
            "grid_gap": null,
            "grid_row": null,
            "grid_template_areas": null,
            "grid_template_columns": null,
            "grid_template_rows": null,
            "height": null,
            "justify_content": null,
            "justify_items": null,
            "left": null,
            "margin": null,
            "max_height": null,
            "max_width": null,
            "min_height": null,
            "min_width": null,
            "object_fit": null,
            "object_position": null,
            "order": null,
            "overflow": null,
            "overflow_x": null,
            "overflow_y": null,
            "padding": null,
            "right": null,
            "top": null,
            "visibility": null,
            "width": null
          }
        },
        "839ef34b67d84a3f84441f01808a7c66": {
          "model_module": "@jupyter-widgets/controls",
          "model_name": "ProgressStyleModel",
          "model_module_version": "1.5.0",
          "state": {
            "_model_module": "@jupyter-widgets/controls",
            "_model_module_version": "1.5.0",
            "_model_name": "ProgressStyleModel",
            "_view_count": null,
            "_view_module": "@jupyter-widgets/base",
            "_view_module_version": "1.2.0",
            "_view_name": "StyleView",
            "bar_color": null,
            "description_width": ""
          }
        },
        "b0edd7c2c2da49fdb6131c1249c8821c": {
          "model_module": "@jupyter-widgets/base",
          "model_name": "LayoutModel",
          "model_module_version": "1.2.0",
          "state": {
            "_model_module": "@jupyter-widgets/base",
            "_model_module_version": "1.2.0",
            "_model_name": "LayoutModel",
            "_view_count": null,
            "_view_module": "@jupyter-widgets/base",
            "_view_module_version": "1.2.0",
            "_view_name": "LayoutView",
            "align_content": null,
            "align_items": null,
            "align_self": null,
            "border": null,
            "bottom": null,
            "display": null,
            "flex": null,
            "flex_flow": null,
            "grid_area": null,
            "grid_auto_columns": null,
            "grid_auto_flow": null,
            "grid_auto_rows": null,
            "grid_column": null,
            "grid_gap": null,
            "grid_row": null,
            "grid_template_areas": null,
            "grid_template_columns": null,
            "grid_template_rows": null,
            "height": null,
            "justify_content": null,
            "justify_items": null,
            "left": null,
            "margin": null,
            "max_height": null,
            "max_width": null,
            "min_height": null,
            "min_width": null,
            "object_fit": null,
            "object_position": null,
            "order": null,
            "overflow": null,
            "overflow_x": null,
            "overflow_y": null,
            "padding": null,
            "right": null,
            "top": null,
            "visibility": null,
            "width": null
          }
        },
        "2b2c5be7ec5d4e499d04f9882501be00": {
          "model_module": "@jupyter-widgets/controls",
          "model_name": "DescriptionStyleModel",
          "model_module_version": "1.5.0",
          "state": {
            "_model_module": "@jupyter-widgets/controls",
            "_model_module_version": "1.5.0",
            "_model_name": "DescriptionStyleModel",
            "_view_count": null,
            "_view_module": "@jupyter-widgets/base",
            "_view_module_version": "1.2.0",
            "_view_name": "StyleView",
            "description_width": ""
          }
        },
        "21c2d62800a542228f64a2c74556260d": {
          "model_module": "@jupyter-widgets/controls",
          "model_name": "HBoxModel",
          "model_module_version": "1.5.0",
          "state": {
            "_dom_classes": [],
            "_model_module": "@jupyter-widgets/controls",
            "_model_module_version": "1.5.0",
            "_model_name": "HBoxModel",
            "_view_count": null,
            "_view_module": "@jupyter-widgets/controls",
            "_view_module_version": "1.5.0",
            "_view_name": "HBoxView",
            "box_style": "",
            "children": [
              "IPY_MODEL_5b72947721214c599124e0c65b23508a",
              "IPY_MODEL_c12e44ba88ee42fe87308bd55f3b5c31",
              "IPY_MODEL_86a4fb039d7b4481b124f0b49229950e"
            ],
            "layout": "IPY_MODEL_9bfb5941fe834a30bb78894299d756a1"
          }
        },
        "5b72947721214c599124e0c65b23508a": {
          "model_module": "@jupyter-widgets/controls",
          "model_name": "HTMLModel",
          "model_module_version": "1.5.0",
          "state": {
            "_dom_classes": [],
            "_model_module": "@jupyter-widgets/controls",
            "_model_module_version": "1.5.0",
            "_model_name": "HTMLModel",
            "_view_count": null,
            "_view_module": "@jupyter-widgets/controls",
            "_view_module_version": "1.5.0",
            "_view_name": "HTMLView",
            "description": "",
            "description_tooltip": null,
            "layout": "IPY_MODEL_195b8aa90c944714b841f2366c842d81",
            "placeholder": "​",
            "style": "IPY_MODEL_f787c5e47df643c3ba0027a87c8ebfc5",
            "value": "config.json: 100%"
          }
        },
        "c12e44ba88ee42fe87308bd55f3b5c31": {
          "model_module": "@jupyter-widgets/controls",
          "model_name": "FloatProgressModel",
          "model_module_version": "1.5.0",
          "state": {
            "_dom_classes": [],
            "_model_module": "@jupyter-widgets/controls",
            "_model_module_version": "1.5.0",
            "_model_name": "FloatProgressModel",
            "_view_count": null,
            "_view_module": "@jupyter-widgets/controls",
            "_view_module_version": "1.5.0",
            "_view_name": "ProgressView",
            "bar_style": "success",
            "description": "",
            "description_tooltip": null,
            "layout": "IPY_MODEL_adfee812393346b985120681d995e75b",
            "max": 502,
            "min": 0,
            "orientation": "horizontal",
            "style": "IPY_MODEL_014c2143f204413bb1f8f9e164b2656b",
            "value": 502
          }
        },
        "86a4fb039d7b4481b124f0b49229950e": {
          "model_module": "@jupyter-widgets/controls",
          "model_name": "HTMLModel",
          "model_module_version": "1.5.0",
          "state": {
            "_dom_classes": [],
            "_model_module": "@jupyter-widgets/controls",
            "_model_module_version": "1.5.0",
            "_model_name": "HTMLModel",
            "_view_count": null,
            "_view_module": "@jupyter-widgets/controls",
            "_view_module_version": "1.5.0",
            "_view_name": "HTMLView",
            "description": "",
            "description_tooltip": null,
            "layout": "IPY_MODEL_28960ab5b560487dbad97e7fbb5a8cd9",
            "placeholder": "​",
            "style": "IPY_MODEL_997d0b73342b44d7af90eb538b3ed1d3",
            "value": " 502/502 [00:00&lt;00:00, 32.0kB/s]"
          }
        },
        "9bfb5941fe834a30bb78894299d756a1": {
          "model_module": "@jupyter-widgets/base",
          "model_name": "LayoutModel",
          "model_module_version": "1.2.0",
          "state": {
            "_model_module": "@jupyter-widgets/base",
            "_model_module_version": "1.2.0",
            "_model_name": "LayoutModel",
            "_view_count": null,
            "_view_module": "@jupyter-widgets/base",
            "_view_module_version": "1.2.0",
            "_view_name": "LayoutView",
            "align_content": null,
            "align_items": null,
            "align_self": null,
            "border": null,
            "bottom": null,
            "display": null,
            "flex": null,
            "flex_flow": null,
            "grid_area": null,
            "grid_auto_columns": null,
            "grid_auto_flow": null,
            "grid_auto_rows": null,
            "grid_column": null,
            "grid_gap": null,
            "grid_row": null,
            "grid_template_areas": null,
            "grid_template_columns": null,
            "grid_template_rows": null,
            "height": null,
            "justify_content": null,
            "justify_items": null,
            "left": null,
            "margin": null,
            "max_height": null,
            "max_width": null,
            "min_height": null,
            "min_width": null,
            "object_fit": null,
            "object_position": null,
            "order": null,
            "overflow": null,
            "overflow_x": null,
            "overflow_y": null,
            "padding": null,
            "right": null,
            "top": null,
            "visibility": null,
            "width": null
          }
        },
        "195b8aa90c944714b841f2366c842d81": {
          "model_module": "@jupyter-widgets/base",
          "model_name": "LayoutModel",
          "model_module_version": "1.2.0",
          "state": {
            "_model_module": "@jupyter-widgets/base",
            "_model_module_version": "1.2.0",
            "_model_name": "LayoutModel",
            "_view_count": null,
            "_view_module": "@jupyter-widgets/base",
            "_view_module_version": "1.2.0",
            "_view_name": "LayoutView",
            "align_content": null,
            "align_items": null,
            "align_self": null,
            "border": null,
            "bottom": null,
            "display": null,
            "flex": null,
            "flex_flow": null,
            "grid_area": null,
            "grid_auto_columns": null,
            "grid_auto_flow": null,
            "grid_auto_rows": null,
            "grid_column": null,
            "grid_gap": null,
            "grid_row": null,
            "grid_template_areas": null,
            "grid_template_columns": null,
            "grid_template_rows": null,
            "height": null,
            "justify_content": null,
            "justify_items": null,
            "left": null,
            "margin": null,
            "max_height": null,
            "max_width": null,
            "min_height": null,
            "min_width": null,
            "object_fit": null,
            "object_position": null,
            "order": null,
            "overflow": null,
            "overflow_x": null,
            "overflow_y": null,
            "padding": null,
            "right": null,
            "top": null,
            "visibility": null,
            "width": null
          }
        },
        "f787c5e47df643c3ba0027a87c8ebfc5": {
          "model_module": "@jupyter-widgets/controls",
          "model_name": "DescriptionStyleModel",
          "model_module_version": "1.5.0",
          "state": {
            "_model_module": "@jupyter-widgets/controls",
            "_model_module_version": "1.5.0",
            "_model_name": "DescriptionStyleModel",
            "_view_count": null,
            "_view_module": "@jupyter-widgets/base",
            "_view_module_version": "1.2.0",
            "_view_name": "StyleView",
            "description_width": ""
          }
        },
        "adfee812393346b985120681d995e75b": {
          "model_module": "@jupyter-widgets/base",
          "model_name": "LayoutModel",
          "model_module_version": "1.2.0",
          "state": {
            "_model_module": "@jupyter-widgets/base",
            "_model_module_version": "1.2.0",
            "_model_name": "LayoutModel",
            "_view_count": null,
            "_view_module": "@jupyter-widgets/base",
            "_view_module_version": "1.2.0",
            "_view_name": "LayoutView",
            "align_content": null,
            "align_items": null,
            "align_self": null,
            "border": null,
            "bottom": null,
            "display": null,
            "flex": null,
            "flex_flow": null,
            "grid_area": null,
            "grid_auto_columns": null,
            "grid_auto_flow": null,
            "grid_auto_rows": null,
            "grid_column": null,
            "grid_gap": null,
            "grid_row": null,
            "grid_template_areas": null,
            "grid_template_columns": null,
            "grid_template_rows": null,
            "height": null,
            "justify_content": null,
            "justify_items": null,
            "left": null,
            "margin": null,
            "max_height": null,
            "max_width": null,
            "min_height": null,
            "min_width": null,
            "object_fit": null,
            "object_position": null,
            "order": null,
            "overflow": null,
            "overflow_x": null,
            "overflow_y": null,
            "padding": null,
            "right": null,
            "top": null,
            "visibility": null,
            "width": null
          }
        },
        "014c2143f204413bb1f8f9e164b2656b": {
          "model_module": "@jupyter-widgets/controls",
          "model_name": "ProgressStyleModel",
          "model_module_version": "1.5.0",
          "state": {
            "_model_module": "@jupyter-widgets/controls",
            "_model_module_version": "1.5.0",
            "_model_name": "ProgressStyleModel",
            "_view_count": null,
            "_view_module": "@jupyter-widgets/base",
            "_view_module_version": "1.2.0",
            "_view_name": "StyleView",
            "bar_color": null,
            "description_width": ""
          }
        },
        "28960ab5b560487dbad97e7fbb5a8cd9": {
          "model_module": "@jupyter-widgets/base",
          "model_name": "LayoutModel",
          "model_module_version": "1.2.0",
          "state": {
            "_model_module": "@jupyter-widgets/base",
            "_model_module_version": "1.2.0",
            "_model_name": "LayoutModel",
            "_view_count": null,
            "_view_module": "@jupyter-widgets/base",
            "_view_module_version": "1.2.0",
            "_view_name": "LayoutView",
            "align_content": null,
            "align_items": null,
            "align_self": null,
            "border": null,
            "bottom": null,
            "display": null,
            "flex": null,
            "flex_flow": null,
            "grid_area": null,
            "grid_auto_columns": null,
            "grid_auto_flow": null,
            "grid_auto_rows": null,
            "grid_column": null,
            "grid_gap": null,
            "grid_row": null,
            "grid_template_areas": null,
            "grid_template_columns": null,
            "grid_template_rows": null,
            "height": null,
            "justify_content": null,
            "justify_items": null,
            "left": null,
            "margin": null,
            "max_height": null,
            "max_width": null,
            "min_height": null,
            "min_width": null,
            "object_fit": null,
            "object_position": null,
            "order": null,
            "overflow": null,
            "overflow_x": null,
            "overflow_y": null,
            "padding": null,
            "right": null,
            "top": null,
            "visibility": null,
            "width": null
          }
        },
        "997d0b73342b44d7af90eb538b3ed1d3": {
          "model_module": "@jupyter-widgets/controls",
          "model_name": "DescriptionStyleModel",
          "model_module_version": "1.5.0",
          "state": {
            "_model_module": "@jupyter-widgets/controls",
            "_model_module_version": "1.5.0",
            "_model_name": "DescriptionStyleModel",
            "_view_count": null,
            "_view_module": "@jupyter-widgets/base",
            "_view_module_version": "1.2.0",
            "_view_name": "StyleView",
            "description_width": ""
          }
        },
        "84c9b8f5340946d4b6008c74fad70b0d": {
          "model_module": "@jupyter-widgets/controls",
          "model_name": "HBoxModel",
          "model_module_version": "1.5.0",
          "state": {
            "_dom_classes": [],
            "_model_module": "@jupyter-widgets/controls",
            "_model_module_version": "1.5.0",
            "_model_name": "HBoxModel",
            "_view_count": null,
            "_view_module": "@jupyter-widgets/controls",
            "_view_module_version": "1.5.0",
            "_view_name": "HBoxView",
            "box_style": "",
            "children": [
              "IPY_MODEL_bc21634df8e14757b20d08e00f84d7b7",
              "IPY_MODEL_ad300145aad14d7c88ea07141cd2bb1c",
              "IPY_MODEL_bbe4f39ca8724e378edaa2bdb0594775"
            ],
            "layout": "IPY_MODEL_48596c26d1e648f9a168b366fb29fbdd"
          }
        },
        "bc21634df8e14757b20d08e00f84d7b7": {
          "model_module": "@jupyter-widgets/controls",
          "model_name": "HTMLModel",
          "model_module_version": "1.5.0",
          "state": {
            "_dom_classes": [],
            "_model_module": "@jupyter-widgets/controls",
            "_model_module_version": "1.5.0",
            "_model_name": "HTMLModel",
            "_view_count": null,
            "_view_module": "@jupyter-widgets/controls",
            "_view_module_version": "1.5.0",
            "_view_name": "HTMLView",
            "description": "",
            "description_tooltip": null,
            "layout": "IPY_MODEL_b402c6c5a0c84abe8748d504e4775e39",
            "placeholder": "​",
            "style": "IPY_MODEL_fc2b364d607048649e3e1d3bf8626101",
            "value": "model.safetensors: 100%"
          }
        },
        "ad300145aad14d7c88ea07141cd2bb1c": {
          "model_module": "@jupyter-widgets/controls",
          "model_name": "FloatProgressModel",
          "model_module_version": "1.5.0",
          "state": {
            "_dom_classes": [],
            "_model_module": "@jupyter-widgets/controls",
            "_model_module_version": "1.5.0",
            "_model_name": "FloatProgressModel",
            "_view_count": null,
            "_view_module": "@jupyter-widgets/controls",
            "_view_module_version": "1.5.0",
            "_view_name": "ProgressView",
            "bar_style": "success",
            "description": "",
            "description_tooltip": null,
            "layout": "IPY_MODEL_c0e572f350284b3f98668565023f5217",
            "max": 345579424,
            "min": 0,
            "orientation": "horizontal",
            "style": "IPY_MODEL_b6b0786bb5c24ab9a03e8506d33b5e9a",
            "value": 345579424
          }
        },
        "bbe4f39ca8724e378edaa2bdb0594775": {
          "model_module": "@jupyter-widgets/controls",
          "model_name": "HTMLModel",
          "model_module_version": "1.5.0",
          "state": {
            "_dom_classes": [],
            "_model_module": "@jupyter-widgets/controls",
            "_model_module_version": "1.5.0",
            "_model_name": "HTMLModel",
            "_view_count": null,
            "_view_module": "@jupyter-widgets/controls",
            "_view_module_version": "1.5.0",
            "_view_name": "HTMLView",
            "description": "",
            "description_tooltip": null,
            "layout": "IPY_MODEL_6e4fccae0ff64cd6a80cac4af8645ce5",
            "placeholder": "​",
            "style": "IPY_MODEL_78fc0faad1c14007a626cab0876f78af",
            "value": " 346M/346M [00:01&lt;00:00, 359MB/s]"
          }
        },
        "48596c26d1e648f9a168b366fb29fbdd": {
          "model_module": "@jupyter-widgets/base",
          "model_name": "LayoutModel",
          "model_module_version": "1.2.0",
          "state": {
            "_model_module": "@jupyter-widgets/base",
            "_model_module_version": "1.2.0",
            "_model_name": "LayoutModel",
            "_view_count": null,
            "_view_module": "@jupyter-widgets/base",
            "_view_module_version": "1.2.0",
            "_view_name": "LayoutView",
            "align_content": null,
            "align_items": null,
            "align_self": null,
            "border": null,
            "bottom": null,
            "display": null,
            "flex": null,
            "flex_flow": null,
            "grid_area": null,
            "grid_auto_columns": null,
            "grid_auto_flow": null,
            "grid_auto_rows": null,
            "grid_column": null,
            "grid_gap": null,
            "grid_row": null,
            "grid_template_areas": null,
            "grid_template_columns": null,
            "grid_template_rows": null,
            "height": null,
            "justify_content": null,
            "justify_items": null,
            "left": null,
            "margin": null,
            "max_height": null,
            "max_width": null,
            "min_height": null,
            "min_width": null,
            "object_fit": null,
            "object_position": null,
            "order": null,
            "overflow": null,
            "overflow_x": null,
            "overflow_y": null,
            "padding": null,
            "right": null,
            "top": null,
            "visibility": null,
            "width": null
          }
        },
        "b402c6c5a0c84abe8748d504e4775e39": {
          "model_module": "@jupyter-widgets/base",
          "model_name": "LayoutModel",
          "model_module_version": "1.2.0",
          "state": {
            "_model_module": "@jupyter-widgets/base",
            "_model_module_version": "1.2.0",
            "_model_name": "LayoutModel",
            "_view_count": null,
            "_view_module": "@jupyter-widgets/base",
            "_view_module_version": "1.2.0",
            "_view_name": "LayoutView",
            "align_content": null,
            "align_items": null,
            "align_self": null,
            "border": null,
            "bottom": null,
            "display": null,
            "flex": null,
            "flex_flow": null,
            "grid_area": null,
            "grid_auto_columns": null,
            "grid_auto_flow": null,
            "grid_auto_rows": null,
            "grid_column": null,
            "grid_gap": null,
            "grid_row": null,
            "grid_template_areas": null,
            "grid_template_columns": null,
            "grid_template_rows": null,
            "height": null,
            "justify_content": null,
            "justify_items": null,
            "left": null,
            "margin": null,
            "max_height": null,
            "max_width": null,
            "min_height": null,
            "min_width": null,
            "object_fit": null,
            "object_position": null,
            "order": null,
            "overflow": null,
            "overflow_x": null,
            "overflow_y": null,
            "padding": null,
            "right": null,
            "top": null,
            "visibility": null,
            "width": null
          }
        },
        "fc2b364d607048649e3e1d3bf8626101": {
          "model_module": "@jupyter-widgets/controls",
          "model_name": "DescriptionStyleModel",
          "model_module_version": "1.5.0",
          "state": {
            "_model_module": "@jupyter-widgets/controls",
            "_model_module_version": "1.5.0",
            "_model_name": "DescriptionStyleModel",
            "_view_count": null,
            "_view_module": "@jupyter-widgets/base",
            "_view_module_version": "1.2.0",
            "_view_name": "StyleView",
            "description_width": ""
          }
        },
        "c0e572f350284b3f98668565023f5217": {
          "model_module": "@jupyter-widgets/base",
          "model_name": "LayoutModel",
          "model_module_version": "1.2.0",
          "state": {
            "_model_module": "@jupyter-widgets/base",
            "_model_module_version": "1.2.0",
            "_model_name": "LayoutModel",
            "_view_count": null,
            "_view_module": "@jupyter-widgets/base",
            "_view_module_version": "1.2.0",
            "_view_name": "LayoutView",
            "align_content": null,
            "align_items": null,
            "align_self": null,
            "border": null,
            "bottom": null,
            "display": null,
            "flex": null,
            "flex_flow": null,
            "grid_area": null,
            "grid_auto_columns": null,
            "grid_auto_flow": null,
            "grid_auto_rows": null,
            "grid_column": null,
            "grid_gap": null,
            "grid_row": null,
            "grid_template_areas": null,
            "grid_template_columns": null,
            "grid_template_rows": null,
            "height": null,
            "justify_content": null,
            "justify_items": null,
            "left": null,
            "margin": null,
            "max_height": null,
            "max_width": null,
            "min_height": null,
            "min_width": null,
            "object_fit": null,
            "object_position": null,
            "order": null,
            "overflow": null,
            "overflow_x": null,
            "overflow_y": null,
            "padding": null,
            "right": null,
            "top": null,
            "visibility": null,
            "width": null
          }
        },
        "b6b0786bb5c24ab9a03e8506d33b5e9a": {
          "model_module": "@jupyter-widgets/controls",
          "model_name": "ProgressStyleModel",
          "model_module_version": "1.5.0",
          "state": {
            "_model_module": "@jupyter-widgets/controls",
            "_model_module_version": "1.5.0",
            "_model_name": "ProgressStyleModel",
            "_view_count": null,
            "_view_module": "@jupyter-widgets/base",
            "_view_module_version": "1.2.0",
            "_view_name": "StyleView",
            "bar_color": null,
            "description_width": ""
          }
        },
        "6e4fccae0ff64cd6a80cac4af8645ce5": {
          "model_module": "@jupyter-widgets/base",
          "model_name": "LayoutModel",
          "model_module_version": "1.2.0",
          "state": {
            "_model_module": "@jupyter-widgets/base",
            "_model_module_version": "1.2.0",
            "_model_name": "LayoutModel",
            "_view_count": null,
            "_view_module": "@jupyter-widgets/base",
            "_view_module_version": "1.2.0",
            "_view_name": "LayoutView",
            "align_content": null,
            "align_items": null,
            "align_self": null,
            "border": null,
            "bottom": null,
            "display": null,
            "flex": null,
            "flex_flow": null,
            "grid_area": null,
            "grid_auto_columns": null,
            "grid_auto_flow": null,
            "grid_auto_rows": null,
            "grid_column": null,
            "grid_gap": null,
            "grid_row": null,
            "grid_template_areas": null,
            "grid_template_columns": null,
            "grid_template_rows": null,
            "height": null,
            "justify_content": null,
            "justify_items": null,
            "left": null,
            "margin": null,
            "max_height": null,
            "max_width": null,
            "min_height": null,
            "min_width": null,
            "object_fit": null,
            "object_position": null,
            "order": null,
            "overflow": null,
            "overflow_x": null,
            "overflow_y": null,
            "padding": null,
            "right": null,
            "top": null,
            "visibility": null,
            "width": null
          }
        },
        "78fc0faad1c14007a626cab0876f78af": {
          "model_module": "@jupyter-widgets/controls",
          "model_name": "DescriptionStyleModel",
          "model_module_version": "1.5.0",
          "state": {
            "_model_module": "@jupyter-widgets/controls",
            "_model_module_version": "1.5.0",
            "_model_name": "DescriptionStyleModel",
            "_view_count": null,
            "_view_module": "@jupyter-widgets/base",
            "_view_module_version": "1.2.0",
            "_view_name": "StyleView",
            "description_width": ""
          }
        }
      }
    },
    "accelerator": "GPU"
  },
  "cells": [
    {
      "cell_type": "code",
      "source": [
        "!pip install datasets"
      ],
      "metadata": {
        "colab": {
          "base_uri": "https://localhost:8080/"
        },
        "id": "rPRB6ISbNPQb",
        "outputId": "763ba423-981a-4b30-a8ac-8c27cd2c5b06"
      },
      "execution_count": 1,
      "outputs": [
        {
          "output_type": "stream",
          "name": "stdout",
          "text": [
            "Collecting datasets\n",
            "  Downloading datasets-3.6.0-py3-none-any.whl.metadata (19 kB)\n",
            "Requirement already satisfied: filelock in /usr/local/lib/python3.11/dist-packages (from datasets) (3.18.0)\n",
            "Requirement already satisfied: numpy>=1.17 in /usr/local/lib/python3.11/dist-packages (from datasets) (2.0.2)\n",
            "Requirement already satisfied: pyarrow>=15.0.0 in /usr/local/lib/python3.11/dist-packages (from datasets) (18.1.0)\n",
            "Collecting dill<0.3.9,>=0.3.0 (from datasets)\n",
            "  Downloading dill-0.3.8-py3-none-any.whl.metadata (10 kB)\n",
            "Requirement already satisfied: pandas in /usr/local/lib/python3.11/dist-packages (from datasets) (2.2.2)\n",
            "Requirement already satisfied: requests>=2.32.2 in /usr/local/lib/python3.11/dist-packages (from datasets) (2.32.3)\n",
            "Requirement already satisfied: tqdm>=4.66.3 in /usr/local/lib/python3.11/dist-packages (from datasets) (4.67.1)\n",
            "Collecting xxhash (from datasets)\n",
            "  Downloading xxhash-3.5.0-cp311-cp311-manylinux_2_17_x86_64.manylinux2014_x86_64.whl.metadata (12 kB)\n",
            "Collecting multiprocess<0.70.17 (from datasets)\n",
            "  Downloading multiprocess-0.70.16-py311-none-any.whl.metadata (7.2 kB)\n",
            "Collecting fsspec<=2025.3.0,>=2023.1.0 (from fsspec[http]<=2025.3.0,>=2023.1.0->datasets)\n",
            "  Downloading fsspec-2025.3.0-py3-none-any.whl.metadata (11 kB)\n",
            "Requirement already satisfied: huggingface-hub>=0.24.0 in /usr/local/lib/python3.11/dist-packages (from datasets) (0.30.2)\n",
            "Requirement already satisfied: packaging in /usr/local/lib/python3.11/dist-packages (from datasets) (24.2)\n",
            "Requirement already satisfied: pyyaml>=5.1 in /usr/local/lib/python3.11/dist-packages (from datasets) (6.0.2)\n",
            "Requirement already satisfied: aiohttp!=4.0.0a0,!=4.0.0a1 in /usr/local/lib/python3.11/dist-packages (from fsspec[http]<=2025.3.0,>=2023.1.0->datasets) (3.11.15)\n",
            "Requirement already satisfied: typing-extensions>=3.7.4.3 in /usr/local/lib/python3.11/dist-packages (from huggingface-hub>=0.24.0->datasets) (4.13.2)\n",
            "Requirement already satisfied: charset-normalizer<4,>=2 in /usr/local/lib/python3.11/dist-packages (from requests>=2.32.2->datasets) (3.4.1)\n",
            "Requirement already satisfied: idna<4,>=2.5 in /usr/local/lib/python3.11/dist-packages (from requests>=2.32.2->datasets) (3.10)\n",
            "Requirement already satisfied: urllib3<3,>=1.21.1 in /usr/local/lib/python3.11/dist-packages (from requests>=2.32.2->datasets) (2.4.0)\n",
            "Requirement already satisfied: certifi>=2017.4.17 in /usr/local/lib/python3.11/dist-packages (from requests>=2.32.2->datasets) (2025.4.26)\n",
            "Requirement already satisfied: python-dateutil>=2.8.2 in /usr/local/lib/python3.11/dist-packages (from pandas->datasets) (2.9.0.post0)\n",
            "Requirement already satisfied: pytz>=2020.1 in /usr/local/lib/python3.11/dist-packages (from pandas->datasets) (2025.2)\n",
            "Requirement already satisfied: tzdata>=2022.7 in /usr/local/lib/python3.11/dist-packages (from pandas->datasets) (2025.2)\n",
            "Requirement already satisfied: aiohappyeyeballs>=2.3.0 in /usr/local/lib/python3.11/dist-packages (from aiohttp!=4.0.0a0,!=4.0.0a1->fsspec[http]<=2025.3.0,>=2023.1.0->datasets) (2.6.1)\n",
            "Requirement already satisfied: aiosignal>=1.1.2 in /usr/local/lib/python3.11/dist-packages (from aiohttp!=4.0.0a0,!=4.0.0a1->fsspec[http]<=2025.3.0,>=2023.1.0->datasets) (1.3.2)\n",
            "Requirement already satisfied: attrs>=17.3.0 in /usr/local/lib/python3.11/dist-packages (from aiohttp!=4.0.0a0,!=4.0.0a1->fsspec[http]<=2025.3.0,>=2023.1.0->datasets) (25.3.0)\n",
            "Requirement already satisfied: frozenlist>=1.1.1 in /usr/local/lib/python3.11/dist-packages (from aiohttp!=4.0.0a0,!=4.0.0a1->fsspec[http]<=2025.3.0,>=2023.1.0->datasets) (1.6.0)\n",
            "Requirement already satisfied: multidict<7.0,>=4.5 in /usr/local/lib/python3.11/dist-packages (from aiohttp!=4.0.0a0,!=4.0.0a1->fsspec[http]<=2025.3.0,>=2023.1.0->datasets) (6.4.3)\n",
            "Requirement already satisfied: propcache>=0.2.0 in /usr/local/lib/python3.11/dist-packages (from aiohttp!=4.0.0a0,!=4.0.0a1->fsspec[http]<=2025.3.0,>=2023.1.0->datasets) (0.3.1)\n",
            "Requirement already satisfied: yarl<2.0,>=1.17.0 in /usr/local/lib/python3.11/dist-packages (from aiohttp!=4.0.0a0,!=4.0.0a1->fsspec[http]<=2025.3.0,>=2023.1.0->datasets) (1.20.0)\n",
            "Requirement already satisfied: six>=1.5 in /usr/local/lib/python3.11/dist-packages (from python-dateutil>=2.8.2->pandas->datasets) (1.17.0)\n",
            "Downloading datasets-3.6.0-py3-none-any.whl (491 kB)\n",
            "\u001b[2K   \u001b[90m━━━━━━━━━━━━━━━━━━━━━━━━━━━━━━━━━━━━━━━━\u001b[0m \u001b[32m491.5/491.5 kB\u001b[0m \u001b[31m15.2 MB/s\u001b[0m eta \u001b[36m0:00:00\u001b[0m\n",
            "\u001b[?25hDownloading dill-0.3.8-py3-none-any.whl (116 kB)\n",
            "\u001b[2K   \u001b[90m━━━━━━━━━━━━━━━━━━━━━━━━━━━━━━━━━━━━━━━━\u001b[0m \u001b[32m116.3/116.3 kB\u001b[0m \u001b[31m9.6 MB/s\u001b[0m eta \u001b[36m0:00:00\u001b[0m\n",
            "\u001b[?25hDownloading fsspec-2025.3.0-py3-none-any.whl (193 kB)\n",
            "\u001b[2K   \u001b[90m━━━━━━━━━━━━━━━━━━━━━━━━━━━━━━━━━━━━━━━━\u001b[0m \u001b[32m193.6/193.6 kB\u001b[0m \u001b[31m11.6 MB/s\u001b[0m eta \u001b[36m0:00:00\u001b[0m\n",
            "\u001b[?25hDownloading multiprocess-0.70.16-py311-none-any.whl (143 kB)\n",
            "\u001b[2K   \u001b[90m━━━━━━━━━━━━━━━━━━━━━━━━━━━━━━━━━━━━━━━━\u001b[0m \u001b[32m143.5/143.5 kB\u001b[0m \u001b[31m7.2 MB/s\u001b[0m eta \u001b[36m0:00:00\u001b[0m\n",
            "\u001b[?25hDownloading xxhash-3.5.0-cp311-cp311-manylinux_2_17_x86_64.manylinux2014_x86_64.whl (194 kB)\n",
            "\u001b[2K   \u001b[90m━━━━━━━━━━━━━━━━━━━━━━━━━━━━━━━━━━━━━━━━\u001b[0m \u001b[32m194.8/194.8 kB\u001b[0m \u001b[31m15.2 MB/s\u001b[0m eta \u001b[36m0:00:00\u001b[0m\n",
            "\u001b[?25hInstalling collected packages: xxhash, fsspec, dill, multiprocess, datasets\n",
            "  Attempting uninstall: fsspec\n",
            "    Found existing installation: fsspec 2025.3.2\n",
            "    Uninstalling fsspec-2025.3.2:\n",
            "      Successfully uninstalled fsspec-2025.3.2\n",
            "\u001b[31mERROR: pip's dependency resolver does not currently take into account all the packages that are installed. This behaviour is the source of the following dependency conflicts.\n",
            "torch 2.6.0+cu124 requires nvidia-cublas-cu12==12.4.5.8; platform_system == \"Linux\" and platform_machine == \"x86_64\", but you have nvidia-cublas-cu12 12.5.3.2 which is incompatible.\n",
            "torch 2.6.0+cu124 requires nvidia-cuda-cupti-cu12==12.4.127; platform_system == \"Linux\" and platform_machine == \"x86_64\", but you have nvidia-cuda-cupti-cu12 12.5.82 which is incompatible.\n",
            "torch 2.6.0+cu124 requires nvidia-cuda-nvrtc-cu12==12.4.127; platform_system == \"Linux\" and platform_machine == \"x86_64\", but you have nvidia-cuda-nvrtc-cu12 12.5.82 which is incompatible.\n",
            "torch 2.6.0+cu124 requires nvidia-cuda-runtime-cu12==12.4.127; platform_system == \"Linux\" and platform_machine == \"x86_64\", but you have nvidia-cuda-runtime-cu12 12.5.82 which is incompatible.\n",
            "torch 2.6.0+cu124 requires nvidia-cudnn-cu12==9.1.0.70; platform_system == \"Linux\" and platform_machine == \"x86_64\", but you have nvidia-cudnn-cu12 9.3.0.75 which is incompatible.\n",
            "torch 2.6.0+cu124 requires nvidia-cufft-cu12==11.2.1.3; platform_system == \"Linux\" and platform_machine == \"x86_64\", but you have nvidia-cufft-cu12 11.2.3.61 which is incompatible.\n",
            "torch 2.6.0+cu124 requires nvidia-curand-cu12==10.3.5.147; platform_system == \"Linux\" and platform_machine == \"x86_64\", but you have nvidia-curand-cu12 10.3.6.82 which is incompatible.\n",
            "torch 2.6.0+cu124 requires nvidia-cusolver-cu12==11.6.1.9; platform_system == \"Linux\" and platform_machine == \"x86_64\", but you have nvidia-cusolver-cu12 11.6.3.83 which is incompatible.\n",
            "torch 2.6.0+cu124 requires nvidia-cusparse-cu12==12.3.1.170; platform_system == \"Linux\" and platform_machine == \"x86_64\", but you have nvidia-cusparse-cu12 12.5.1.3 which is incompatible.\n",
            "torch 2.6.0+cu124 requires nvidia-nvjitlink-cu12==12.4.127; platform_system == \"Linux\" and platform_machine == \"x86_64\", but you have nvidia-nvjitlink-cu12 12.5.82 which is incompatible.\n",
            "gcsfs 2025.3.2 requires fsspec==2025.3.2, but you have fsspec 2025.3.0 which is incompatible.\u001b[0m\u001b[31m\n",
            "\u001b[0mSuccessfully installed datasets-3.6.0 dill-0.3.8 fsspec-2025.3.0 multiprocess-0.70.16 xxhash-3.5.0\n"
          ]
        }
      ]
    },
    {
      "cell_type": "code",
      "execution_count": 2,
      "metadata": {
        "id": "KwqkD6ZTMxbv"
      },
      "outputs": [],
      "source": [
        "import torch\n",
        "import torch.nn as nn\n",
        "import torch.nn.functional as F\n",
        "from transformers import ViTModel, ViTConfig\n",
        "from transformers import ViTForImageClassification, ViTImageProcessor\n",
        "from datasets import load_dataset\n",
        "import numpy as np\n",
        "from torch.utils.data import Dataset, DataLoader, random_split\n",
        "from torchvision import transforms\n",
        "from sklearn.metrics import classification_report, confusion_matrix\n",
        "import matplotlib.pyplot as plt\n",
        "import seaborn as sns\n",
        "from tqdm import tqdm\n",
        "import os"
      ]
    },
    {
      "cell_type": "code",
      "source": [
        "# Set random seeds for reproducibility\n",
        "torch.manual_seed(42)\n",
        "np.random.seed(42)"
      ],
      "metadata": {
        "id": "P3TD5pRMR48A"
      },
      "execution_count": 3,
      "outputs": []
    },
    {
      "cell_type": "code",
      "source": [
        "# Device configuration\n",
        "device = torch.device(\"cuda\" if torch.cuda.is_available() else \"cpu\")"
      ],
      "metadata": {
        "id": "cyH984mQaDUX"
      },
      "execution_count": 4,
      "outputs": []
    },
    {
      "cell_type": "code",
      "source": [
        "# 1. Load and prepare dataset (without Pandas)\n",
        "def load_and_split_dataset(test_size=0.2, val_size=0.1):\n",
        "    \"\"\"Load dataset and split into train/val/test sets while maintaining original format\"\"\"\n",
        "    # Load dataset (only has 'train' split)\n",
        "    dataset = load_dataset(\"BTX24/tekno21-brain-stroke-dataset-binary\")['train']\n",
        "\n",
        "    # First split: train + temp (test + val)\n",
        "    train_size = int((1 - test_size - val_size) * len(dataset))\n",
        "    temp_size = len(dataset) - train_size\n",
        "\n",
        "    # Use torch's random_split to maintain original dataset structure\n",
        "    train_ds, temp_ds = random_split(\n",
        "        dataset,\n",
        "        [train_size, temp_size],\n",
        "        generator=torch.Generator().manual_seed(42)\n",
        "    )\n",
        "\n",
        "    # Second split: test and validation from temp\n",
        "    val_ratio = val_size / (test_size + val_size)\n",
        "    val_size = int(val_ratio * len(temp_ds))\n",
        "    test_size = len(temp_ds) - val_size\n",
        "\n",
        "    val_ds, test_ds = random_split(\n",
        "        temp_ds,\n",
        "        [val_size, test_size],\n",
        "        generator=torch.Generator().manual_seed(42)\n",
        "    )\n",
        "\n",
        "    return train_ds, val_ds, test_ds"
      ],
      "metadata": {
        "id": "OQuQByDzaH7n"
      },
      "execution_count": 5,
      "outputs": []
    },
    {
      "cell_type": "code",
      "source": [
        "# 2. Custom Dataset Class\n",
        "class StrokeDataset(Dataset):\n",
        "    \"\"\"Custom dataset that handles both original and split datasets\"\"\"\n",
        "    def __init__(self, hf_dataset, transform=None):\n",
        "        self.dataset = hf_dataset\n",
        "        self.transform = transform\n",
        "\n",
        "    def __len__(self):\n",
        "        return len(self.dataset)\n",
        "\n",
        "    def __getitem__(self, idx):\n",
        "        item = self.dataset[idx]\n",
        "        image = item['image'].convert('RGB')\n",
        "\n",
        "        # Handle both string and integer labels\n",
        "        label = item['label']\n",
        "        if isinstance(label, str):  # Original dataset format\n",
        "            label = 1 if label == 'inme var' else 0\n",
        "        else:  # After random_split (integer)\n",
        "            label = int(label)\n",
        "\n",
        "        if self.transform:\n",
        "            image = self.transform(image)\n",
        "\n",
        "        return image, torch.tensor(label, dtype=torch.long)"
      ],
      "metadata": {
        "id": "aYArqcK8aLZZ"
      },
      "execution_count": 6,
      "outputs": []
    },
    {
      "cell_type": "code",
      "source": [
        "# 4. Load and split data\n",
        "train_ds, val_ds, test_ds = load_and_split_dataset()"
      ],
      "metadata": {
        "id": "IpAAIhLGOQGq",
        "colab": {
          "base_uri": "https://localhost:8080/",
          "height": 274,
          "referenced_widgets": [
            "6b70915698fa4fe68260af8690e5e448",
            "a19bb0a0477f4011878bf527488d9152",
            "2b14c75473e044519073b21cd5d95993",
            "dac61c236baa42a79d6747b0a822587d",
            "e9f7b3f5139c48e3b138538e7fefe5b8",
            "1fadcf7cbcdc477a8ebc654efc36ed67",
            "83595b95556f4aa6a2fe3d2fb6a4fd9d",
            "eacb292c00fa49febf88c20a0ab43176",
            "c303b00722e443c0875d968898a7d7cf",
            "7b0f46f4328941358b411220de71d652",
            "a8d90f39f5954a79bf8c3570252501a7",
            "b5376263bef74d888633fd6763f704a7",
            "468bbecf38404fdaa947b2dd88ef61c5",
            "91d0f7ad07744f59aa7ba3c77b8a6262",
            "31858d5d26a847ef9d7ff09f8dc201c5",
            "e51fb39db13d46ce9be75c3eed93e1f6",
            "eee634e885cd40e38af94bdc95f93a45",
            "8a29b20f9faf45a0a13af037db1163f1",
            "db27f1caed0b44ea9fdd606c661ecbd3",
            "8a31a9e02d314196812a36ee03f55d15",
            "2b0fbfaf7b7549dd9bc7e31e7f329717",
            "9dfe5325091947648f8c482e1536d279",
            "972a424790dd4e5c8937911da1abbb83",
            "86aedaf1caae4023ae9cd81a584cc80b",
            "a62189d794ff40c2986fbc929b88bb46",
            "db4775fce39648b9957a0bfe9aa2b039",
            "2be32760942a4fc59229c74c06c9486d",
            "105ad5c67dd9402eafb567c90d51d44f",
            "ba9d1c9b9bc043c890787d4e53218d1a",
            "3deb32c7fa454374b3063fdacd7d8620",
            "46d16753437542d08e0d1847af269613",
            "6f8e962d9f9846d5b8c99718036390fd",
            "6df2c736b59349359e517006a97ff7a2",
            "95b6f73a76ed4ff2af73195c8d717f2b",
            "0c09ab8ade5d4394a7ef40b3ffe95ba2",
            "62167e4dbb3243aa8bb9b65c9edb99f2",
            "552920690a2c4b759a6a8b4371377784",
            "866874da398640ed96f39c1e88e0d927",
            "eca938de93434cb2845251775e976457",
            "8252343db1f746dca1a8074b02d7836f",
            "40a7176df48f4baeab8dee581f28160b",
            "41de0fab1a2044bfba8ca342a5f0bbbf",
            "b6d57db95abb4a1693d58bf32ed42346",
            "cc886d5e625d4b2885f30d04b849ce00"
          ]
        },
        "outputId": "7126690d-c2f1-4b7d-f3df-a1f94891739c"
      },
      "execution_count": 7,
      "outputs": [
        {
          "output_type": "stream",
          "name": "stderr",
          "text": [
            "/usr/local/lib/python3.11/dist-packages/huggingface_hub/utils/_auth.py:94: UserWarning: \n",
            "The secret `HF_TOKEN` does not exist in your Colab secrets.\n",
            "To authenticate with the Hugging Face Hub, create a token in your settings tab (https://huggingface.co/settings/tokens), set it as secret in your Google Colab and restart your session.\n",
            "You will be able to reuse this secret in all of your notebooks.\n",
            "Please note that authentication is recommended but still optional to access public models or datasets.\n",
            "  warnings.warn(\n"
          ]
        },
        {
          "output_type": "display_data",
          "data": {
            "text/plain": [
              "README.md:   0%|          | 0.00/3.94k [00:00<?, ?B/s]"
            ],
            "application/vnd.jupyter.widget-view+json": {
              "version_major": 2,
              "version_minor": 0,
              "model_id": "6b70915698fa4fe68260af8690e5e448"
            }
          },
          "metadata": {}
        },
        {
          "output_type": "display_data",
          "data": {
            "text/plain": [
              "train-00000-of-00002.parquet:   0%|          | 0.00/288M [00:00<?, ?B/s]"
            ],
            "application/vnd.jupyter.widget-view+json": {
              "version_major": 2,
              "version_minor": 0,
              "model_id": "b5376263bef74d888633fd6763f704a7"
            }
          },
          "metadata": {}
        },
        {
          "output_type": "display_data",
          "data": {
            "text/plain": [
              "train-00001-of-00002.parquet:   0%|          | 0.00/291M [00:00<?, ?B/s]"
            ],
            "application/vnd.jupyter.widget-view+json": {
              "version_major": 2,
              "version_minor": 0,
              "model_id": "972a424790dd4e5c8937911da1abbb83"
            }
          },
          "metadata": {}
        },
        {
          "output_type": "display_data",
          "data": {
            "text/plain": [
              "Generating train split:   0%|          | 0/7369 [00:00<?, ? examples/s]"
            ],
            "application/vnd.jupyter.widget-view+json": {
              "version_major": 2,
              "version_minor": 0,
              "model_id": "95b6f73a76ed4ff2af73195c8d717f2b"
            }
          },
          "metadata": {}
        }
      ]
    },
    {
      "cell_type": "code",
      "source": [
        "# 7. Training loop with validation\n",
        "# This version is based on your original train_model logic\n",
        "\n",
        "def generic_train_model(model, train_loader, val_loader, optimizer, loss_fn, device, num_epochs, model_name=\"Model\"):\n",
        "    \"\"\"Generic training loop with validation\"\"\"\n",
        "    train_losses, val_losses = [], []\n",
        "    train_accs, val_accs = [], []\n",
        "\n",
        "    print(f\"\\n--- Training {model_name} ---\")\n",
        "\n",
        "    for epoch in range(num_epochs):\n",
        "        # Training phase\n",
        "        model.train()\n",
        "        epoch_train_loss = 0\n",
        "        correct_train = 0\n",
        "        total_train = 0\n",
        "\n",
        "        progress_bar_train = tqdm(train_loader, desc=f'Epoch {epoch+1}/{num_epochs} [{model_name} Train]')\n",
        "        for images, labels in progress_bar_train:\n",
        "            images, labels = images.to(device), labels.to(device)\n",
        "\n",
        "            optimizer.zero_grad()\n",
        "            outputs = model(images) # For ResNet, output is directly the logits\n",
        "            if hasattr(outputs, 'logits'): # For HuggingFace models\n",
        "                outputs = outputs.logits\n",
        "\n",
        "            loss = loss_fn(outputs, labels)\n",
        "            loss.backward()\n",
        "            optimizer.step()\n",
        "\n",
        "            epoch_train_loss += loss.item()\n",
        "            _, predicted = torch.max(outputs.data, 1)\n",
        "            total_train += labels.size(0)\n",
        "            correct_train += (predicted == labels).sum().item()\n",
        "\n",
        "            progress_bar_train.set_postfix({\n",
        "                'loss': epoch_train_loss/(progress_bar_train.n+1), # loss per batch\n",
        "                'acc': 100*correct_train/total_train\n",
        "            })\n",
        "\n",
        "        # Validation phase\n",
        "        model.eval()\n",
        "        epoch_val_loss = 0\n",
        "        correct_val = 0\n",
        "        total_val = 0\n",
        "\n",
        "        with torch.no_grad():\n",
        "            progress_bar_val = tqdm(val_loader, desc=f'Epoch {epoch+1}/{num_epochs} [{model_name} Val]')\n",
        "            for images, labels in progress_bar_val:\n",
        "                images, labels = images.to(device), labels.to(device)\n",
        "                outputs = model(images)\n",
        "                if hasattr(outputs, 'logits'): # For HuggingFace models\n",
        "                    outputs = outputs.logits\n",
        "\n",
        "                epoch_val_loss += loss_fn(outputs, labels).item()\n",
        "                _, predicted = torch.max(outputs.data, 1)\n",
        "                total_val += labels.size(0)\n",
        "                correct_val += (predicted == labels).sum().item()\n",
        "\n",
        "                progress_bar_val.set_postfix({\n",
        "                    'loss': epoch_val_loss/(progress_bar_val.n+1),\n",
        "                    'acc': 100*correct_val/total_val\n",
        "                })\n",
        "\n",
        "\n",
        "        # Calculate metrics\n",
        "        avg_train_loss = epoch_train_loss/len(train_loader)\n",
        "        avg_train_acc = 100*correct_train/total_train\n",
        "        avg_val_loss = epoch_val_loss/len(val_loader)\n",
        "        avg_val_acc = 100*correct_val/total_val\n",
        "\n",
        "        train_losses.append(avg_train_loss)\n",
        "        train_accs.append(avg_train_acc)\n",
        "        val_losses.append(avg_val_loss)\n",
        "        val_accs.append(avg_val_acc)\n",
        "\n",
        "        print(f'\\nEpoch {epoch+1} Summary for {model_name}:')\n",
        "        print(f'Train Loss: {avg_train_loss:.4f} | Train Acc: {avg_train_acc:.2f}%')\n",
        "        print(f'Val Loss: {avg_val_loss:.4f}   | Val Acc: {avg_val_acc:.2f}%')\n",
        "\n",
        "        # Optional: Layer-wise learning status (more relevant for complex models like ViT)\n",
        "        # if model_name == \"ViT\": # Or some other condition\n",
        "        #     print(\"\\nLayer-wise learning status:\")\n",
        "        #     for name, param in model.named_parameters():\n",
        "        #         if param.requires_grad and param.grad is not None:\n",
        "        #             print(f\"{name:40} | Grad Norm: {param.grad.norm().item():.4f} | Values: {param.data.mean().item():.4f} ± {param.data.std().item():.4f}\")\n",
        "        #         elif param.requires_grad:\n",
        "        #             print(f\"{name:40} | Grad Norm: N/A (no grad this step) | Values: {param.data.mean().item():.4f} ± {param.data.std().item():.4f}\")\n",
        "\n",
        "\n",
        "    return train_losses, val_losses, train_accs, val_accs\n",
        "\n",
        "\n",
        "# This version is based on your original evaluate_model logic\n",
        "def generic_evaluate_model(model, test_loader, device, loss_fn, id2label, model_name=\"Model\"):\n",
        "    print(f\"\\n--- Evaluating {model_name} on the test set ---\")\n",
        "    model.eval()\n",
        "    test_loss = 0\n",
        "    correct_test = 0\n",
        "    total_test = 0\n",
        "\n",
        "    all_labels_list = []\n",
        "    all_predictions_list = []\n",
        "\n",
        "    with torch.no_grad():\n",
        "        progress_bar_test = tqdm(test_loader, desc=f'{model_name} Test Evaluation')\n",
        "        for images, labels in progress_bar_test:\n",
        "            images, labels = images.to(device), labels.to(device)\n",
        "\n",
        "            outputs = model(images)\n",
        "            if hasattr(outputs, 'logits'): # For HuggingFace models\n",
        "                outputs = outputs.logits\n",
        "\n",
        "            loss = loss_fn(outputs, labels)\n",
        "            test_loss += loss.item()\n",
        "\n",
        "            _, predicted = torch.max(outputs.data, 1)\n",
        "            total_test += labels.size(0)\n",
        "            correct_test += (predicted == labels).sum().item()\n",
        "\n",
        "            all_labels_list.extend(labels.cpu().numpy())\n",
        "            all_predictions_list.extend(predicted.cpu().numpy())\n",
        "\n",
        "            progress_bar_test.set_postfix({\n",
        "                'loss': test_loss/(progress_bar_test.n+1),\n",
        "                'acc': 100*correct_test/total_test\n",
        "            })\n",
        "\n",
        "    avg_test_loss = test_loss / len(test_loader)\n",
        "    test_accuracy = 100 * correct_test / total_test\n",
        "\n",
        "    print(f'\\n{model_name} Test Loss: {avg_test_loss:.4f}')\n",
        "    print(f'{model_name} Test Accuracy: {test_accuracy:.2f}%')\n",
        "\n",
        "    print(\"\\nClassification Report:\")\n",
        "    target_names = [id2label[i] for i in range(len(id2label))]\n",
        "    print(classification_report(all_labels_list, all_predictions_list, target_names=target_names, digits=4))\n",
        "\n",
        "    print(\"\\nConfusion Matrix:\")\n",
        "    cm = confusion_matrix(all_labels_list, all_predictions_list)\n",
        "    plt.figure(figsize=(8, 6))\n",
        "    sns.heatmap(cm, annot=True, fmt='d', cmap='Blues', xticklabels=target_names, yticklabels=target_names)\n",
        "    plt.xlabel('Predicted Label')\n",
        "    plt.ylabel('True Label')\n",
        "    plt.title(f'{model_name} Confusion Matrix')\n",
        "    plt.show()\n",
        "\n",
        "    return avg_test_loss, test_accuracy, all_labels_list, all_predictions_list\n",
        "\n",
        "# id2label mapping (ensure this is defined, e.g., from ViT config or manually for ResNet)\n",
        "id2label_map = {0: 'inme yok', 1: 'inme var'}\n",
        "\n",
        "print(\"Generic training and evaluation functions defined.\")"
      ],
      "metadata": {
        "colab": {
          "base_uri": "https://localhost:8080/"
        },
        "id": "k3DT9PTIQuFC",
        "outputId": "c4a982d9-5470-48b8-db3b-fb9208edf26e"
      },
      "execution_count": 8,
      "outputs": [
        {
          "output_type": "stream",
          "name": "stdout",
          "text": [
            "Generic training and evaluation functions defined.\n"
          ]
        }
      ]
    },
    {
      "cell_type": "code",
      "source": [
        "# (Add this cell or modify your existing plotting cell to be callable)\n",
        "\n",
        "def plot_training_history(train_losses, val_losses, train_accs, val_accs, model_name=\"Model\"):\n",
        "    plt.figure(figsize=(12, 4))\n",
        "\n",
        "    plt.subplot(1, 2, 1)\n",
        "    plt.plot(train_losses, label=f'{model_name} Train Loss')\n",
        "    plt.plot(val_losses, label=f'{model_name} Validation Loss')\n",
        "    plt.title(f'{model_name} Loss vs. Epochs')\n",
        "    plt.xlabel('Epochs')\n",
        "    plt.ylabel('Loss')\n",
        "    plt.legend()\n",
        "\n",
        "    plt.subplot(1, 2, 2)\n",
        "    plt.plot(train_accs, label=f'{model_name} Train Accuracy')\n",
        "    plt.plot(val_accs, label=f'{model_name} Validation Accuracy')\n",
        "    plt.title(f'{model_name} Accuracy vs. Epochs')\n",
        "    plt.xlabel('Epochs')\n",
        "    plt.ylabel('Accuracy (%)')\n",
        "    plt.legend()\n",
        "\n",
        "    plt.tight_layout()\n",
        "    plt.show()"
      ],
      "metadata": {
        "id": "hy7owpujQbZj"
      },
      "execution_count": 9,
      "outputs": []
    },
    {
      "cell_type": "code",
      "source": [],
      "metadata": {
        "id": "IZ_aq2gZPvf7"
      },
      "execution_count": null,
      "outputs": []
    },
    {
      "cell_type": "markdown",
      "source": [
        "---"
      ],
      "metadata": {
        "id": "IZSbN5PkPv5-"
      }
    },
    {
      "cell_type": "markdown",
      "source": [
        "# Baseline model"
      ],
      "metadata": {
        "id": "0PhVxMKPPw-X"
      }
    },
    {
      "cell_type": "code",
      "source": [
        "from torchvision.models import resnet18, ResNet18_Weights\n",
        "from torchvision import transforms as T # Use T to avoid conflict if you aliased transforms earlier\n",
        "\n",
        "# Define transformations for ResNet18\n",
        "# Standard ImageNet normalization\n",
        "resnet_transform = T.Compose([\n",
        "    T.Resize(256),\n",
        "    T.CenterCrop(224),\n",
        "    T.ToTensor(),\n",
        "    T.Normalize(mean=[0.485, 0.456, 0.406], std=[0.229, 0.224, 0.225])\n",
        "])\n",
        "\n",
        "print(\"ResNet18 transformations defined.\")"
      ],
      "metadata": {
        "colab": {
          "base_uri": "https://localhost:8080/"
        },
        "id": "yyEhKPDgK4Ij",
        "outputId": "67eea4f1-af0c-4eb7-89f5-b114d53c5325"
      },
      "execution_count": null,
      "outputs": [
        {
          "output_type": "stream",
          "name": "stdout",
          "text": [
            "ResNet18 transformations defined.\n"
          ]
        }
      ]
    },
    {
      "cell_type": "code",
      "source": [
        "# Create dataset objects for ResNet\n",
        "# Assuming train_ds, val_ds, test_ds are already loaded from your cell 5\n",
        "# (train_ds, val_ds, test_ds = load_and_split_dataset())\n",
        "\n",
        "train_dataset_resnet = StrokeDataset(train_ds, transform=resnet_transform)\n",
        "val_dataset_resnet = StrokeDataset(val_ds, transform=resnet_transform)\n",
        "test_dataset_resnet = StrokeDataset(test_ds, transform=resnet_transform)\n",
        "\n",
        "# Create dataloaders for ResNet\n",
        "batch_size = 16 # You can adjust this\n",
        "train_loader_resnet = DataLoader(train_dataset_resnet, batch_size=batch_size, shuffle=True)\n",
        "val_loader_resnet = DataLoader(val_dataset_resnet, batch_size=batch_size)\n",
        "test_loader_resnet = DataLoader(test_dataset_resnet, batch_size=batch_size)\n",
        "\n",
        "print(f\"DataLoaders for ResNet18 created. Training samples: {len(train_dataset_resnet)}, Validation samples: {len(val_dataset_resnet)}, Test samples: {len(test_dataset_resnet)}\")"
      ],
      "metadata": {
        "colab": {
          "base_uri": "https://localhost:8080/"
        },
        "id": "N9w50t1ZLTdC",
        "outputId": "a86872cc-c1bd-483c-980e-ae634ff1512c"
      },
      "execution_count": null,
      "outputs": [
        {
          "output_type": "stream",
          "name": "stdout",
          "text": [
            "DataLoaders for ResNet18 created. Training samples: 5158, Validation samples: 737, Test samples: 1474\n"
          ]
        }
      ]
    },
    {
      "cell_type": "code",
      "source": [
        "# Initialize ResNet18 model\n",
        "baseline_model = resnet18(weights=ResNet18_Weights.IMAGENET1K_V1)\n",
        "\n",
        "# Modify the final fully connected layer for 2 classes\n",
        "num_ftrs = baseline_model.fc.in_features\n",
        "baseline_model.fc = nn.Linear(num_ftrs, 2) # 2 output classes: 'inme yok', 'inme var'\n",
        "\n",
        "baseline_model = baseline_model.to(device)\n",
        "\n",
        "print(\"ResNet18 baseline model initialized and moved to device.\")\n",
        "print(baseline_model.fc)"
      ],
      "metadata": {
        "colab": {
          "base_uri": "https://localhost:8080/"
        },
        "id": "ZZJZwbSpOzB-",
        "outputId": "7ef1b0a2-58c5-4b9f-8f6a-28304364ca12"
      },
      "execution_count": null,
      "outputs": [
        {
          "output_type": "stream",
          "name": "stderr",
          "text": [
            "Downloading: \"https://download.pytorch.org/models/resnet18-f37072fd.pth\" to /root/.cache/torch/hub/checkpoints/resnet18-f37072fd.pth\n",
            "100%|██████████| 44.7M/44.7M [00:00<00:00, 49.3MB/s]\n"
          ]
        },
        {
          "output_type": "stream",
          "name": "stdout",
          "text": [
            "ResNet18 baseline model initialized and moved to device.\n",
            "Linear(in_features=512, out_features=2, bias=True)\n"
          ]
        }
      ]
    },
    {
      "cell_type": "code",
      "source": [
        "# Optimizer for ResNet18\n",
        "# You can fine-tune all parameters or just the newly added classifier\n",
        "# Option 1: Fine-tune all parameters\n",
        "optimizer_baseline = torch.optim.AdamW(baseline_model.parameters(), lr=1e-4, weight_decay=0.01)\n",
        "\n",
        "# Option 2: Fine-tune only the classifier (faster, might underperform if features are very different)\n",
        "# optimizer_baseline = torch.optim.AdamW(baseline_model.fc.parameters(), lr=1e-3, weight_decay=0.01)\n",
        "\n",
        "criterion_baseline = nn.CrossEntropyLoss() # Same loss function\n",
        "\n",
        "print(\"Optimizer and criterion for ResNet18 baseline defined.\")"
      ],
      "metadata": {
        "colab": {
          "base_uri": "https://localhost:8080/"
        },
        "id": "J_GBxWw6O71I",
        "outputId": "de266bc0-078e-4e5a-d66b-1a754cf6036a"
      },
      "execution_count": null,
      "outputs": [
        {
          "output_type": "stream",
          "name": "stdout",
          "text": [
            "Optimizer and criterion for ResNet18 baseline defined.\n"
          ]
        }
      ]
    },
    {
      "cell_type": "code",
      "source": [
        "num_epochs_baseline = 25 # Adjust as needed\n",
        "\n",
        "baseline_train_losses, baseline_val_losses, baseline_train_accs, baseline_val_accs = generic_train_model(\n",
        "    model=baseline_model,\n",
        "    train_loader=train_loader_resnet,\n",
        "    val_loader=val_loader_resnet,\n",
        "    optimizer=optimizer_baseline,\n",
        "    loss_fn=criterion_baseline,\n",
        "    device=device,\n",
        "    num_epochs=num_epochs_baseline,\n",
        "    model_name=\"ResNet18_Baseline\"\n",
        ")"
      ],
      "metadata": {
        "colab": {
          "base_uri": "https://localhost:8080/"
        },
        "id": "M9UOSTDZQiWm",
        "outputId": "c039b0a2-1154-4759-d084-f861d51bedc7"
      },
      "execution_count": null,
      "outputs": [
        {
          "output_type": "stream",
          "name": "stdout",
          "text": [
            "\n",
            "--- Training ResNet18_Baseline ---\n"
          ]
        },
        {
          "output_type": "stream",
          "name": "stderr",
          "text": [
            "Epoch 1/25 [ResNet18_Baseline Train]:   3%|▎         | 11/323 [00:59<23:47,  4.57s/it, loss=0.603, acc=69.9]"
          ]
        }
      ]
    },
    {
      "cell_type": "code",
      "source": [
        "# Plot for ResNet18 Baseline\n",
        "plot_training_history(baseline_train_losses, baseline_val_losses, baseline_train_accs, baseline_val_accs, \"ResNet18_Baseline\")"
      ],
      "metadata": {
        "id": "67c6fzGNQixa"
      },
      "execution_count": null,
      "outputs": []
    },
    {
      "cell_type": "code",
      "source": [
        "avg_test_loss_baseline, test_accuracy_baseline, _, _ = generic_evaluate_model(\n",
        "    model=baseline_model,\n",
        "    test_loader=test_loader_resnet,\n",
        "    device=device,\n",
        "    loss_fn=criterion_baseline,\n",
        "    id2label=id2label_map, # Use the manually defined map\n",
        "    model_name=\"ResNet18_Baseline\"\n",
        ")"
      ],
      "metadata": {
        "id": "zMYXwCdlRTW3"
      },
      "execution_count": null,
      "outputs": []
    },
    {
      "cell_type": "code",
      "source": [],
      "metadata": {
        "id": "DAT4dmIQPof4"
      },
      "execution_count": null,
      "outputs": []
    },
    {
      "cell_type": "markdown",
      "source": [
        "---"
      ],
      "metadata": {
        "id": "316KnoGLPsAQ"
      }
    },
    {
      "cell_type": "markdown",
      "source": [
        "# Advance model"
      ],
      "metadata": {
        "id": "0wlk1aALPpAi"
      }
    },
    {
      "cell_type": "code",
      "source": [
        "# 3. Initialize ViT processor and transformations\n",
        "processor = ViTImageProcessor.from_pretrained('google/vit-base-patch16-224-in21k')\n",
        "\n",
        "def vit_transform(image):\n",
        "    \"\"\"Transform image for ViT model using HuggingFace processor\"\"\"\n",
        "    return processor(image, return_tensors=\"pt\")['pixel_values'].squeeze(0)"
      ],
      "metadata": {
        "id": "_u5Cig_BaOuX",
        "colab": {
          "base_uri": "https://localhost:8080/",
          "height": 49,
          "referenced_widgets": [
            "1260d96a8dd94df3a78ef8ecc055a8dc",
            "8de0c22c530e4901a1cfd24f1b66881a",
            "542969124aee4901ae13be28e4a7cd9f",
            "0888ffbf8d024dcba7e3ae7ec33178b7",
            "485ee215dcdd466bb72521276a71daf7",
            "d89cbc23858f49489df7b197f26eb0a3",
            "3e6c1a0e0eaf4cf8b1fe7b7d62907dd7",
            "72d840de5cb84bb9a857f1b6689e2ec8",
            "839ef34b67d84a3f84441f01808a7c66",
            "b0edd7c2c2da49fdb6131c1249c8821c",
            "2b2c5be7ec5d4e499d04f9882501be00"
          ]
        },
        "outputId": "17909797-8474-477e-e9f9-c92e2baa1966"
      },
      "execution_count": 10,
      "outputs": [
        {
          "output_type": "display_data",
          "data": {
            "text/plain": [
              "preprocessor_config.json:   0%|          | 0.00/160 [00:00<?, ?B/s]"
            ],
            "application/vnd.jupyter.widget-view+json": {
              "version_major": 2,
              "version_minor": 0,
              "model_id": "1260d96a8dd94df3a78ef8ecc055a8dc"
            }
          },
          "metadata": {}
        }
      ]
    },
    {
      "cell_type": "code",
      "source": [
        "train_ds[0]"
      ],
      "metadata": {
        "id": "KwcrxR4md4gv",
        "colab": {
          "base_uri": "https://localhost:8080/"
        },
        "outputId": "698c6d8a-bbb1-43e2-8f67-0d2ca0354f2e"
      },
      "execution_count": 11,
      "outputs": [
        {
          "output_type": "execute_result",
          "data": {
            "text/plain": [
              "{'image': <PIL.PngImagePlugin.PngImageFile image mode=RGBA size=512x512>,\n",
              " 'label': 1}"
            ]
          },
          "metadata": {},
          "execution_count": 11
        }
      ]
    },
    {
      "cell_type": "code",
      "source": [
        "# Create dataset objects\n",
        "train_dataset = StrokeDataset(train_ds, transform=vit_transform)\n",
        "val_dataset = StrokeDataset(val_ds, transform=vit_transform)\n",
        "test_dataset = StrokeDataset(test_ds, transform=vit_transform)"
      ],
      "metadata": {
        "id": "zrICV9w3aZyr"
      },
      "execution_count": 12,
      "outputs": []
    },
    {
      "cell_type": "code",
      "source": [
        "# Create dataloaders\n",
        "batch_size = 16\n",
        "train_loader = DataLoader(train_dataset, batch_size=batch_size, shuffle=True)\n",
        "val_loader = DataLoader(val_dataset, batch_size=batch_size)\n",
        "test_loader = DataLoader(test_dataset, batch_size=batch_size)"
      ],
      "metadata": {
        "id": "B3KXZqQ0awom"
      },
      "execution_count": 13,
      "outputs": []
    },
    {
      "cell_type": "code",
      "source": [
        "# 5. Model initialization with proper classification head\n",
        "print(\"Initializing model with custom classification head...\")\n",
        "\n",
        "model = ViTForImageClassification.from_pretrained(\n",
        "    'google/vit-base-patch16-224-in21k',\n",
        "    num_labels=2,\n",
        "    id2label={0: 'inme yok', 1: 'inme var'},\n",
        "    label2id={'inme yok': 0, 'inme var': 1},\n",
        "    ignore_mismatched_sizes=True  # Expected warning about classifier being reinitialized\n",
        ")\n",
        "\n",
        "# Explicitly initialize classification head properly\n",
        "with torch.no_grad():\n",
        "    # He initialization for the new head\n",
        "    nn.init.kaiming_normal_(model.classifier.weight, mode='fan_out', nonlinearity='relu')\n",
        "    nn.init.constant_(model.classifier.bias, 0)\n",
        "\n",
        "model = model.to(device)\n",
        "\n",
        "print(f\"Model initialized. Moving to {device}...\")\n",
        "print(f\"Classification head weights: {model.classifier.weight.shape}\")\n",
        "print(f\"Classification head bias: {model.classifier.bias.shape}\")"
      ],
      "metadata": {
        "id": "2byNMyqIaxCb",
        "colab": {
          "base_uri": "https://localhost:8080/",
          "height": 210,
          "referenced_widgets": [
            "21c2d62800a542228f64a2c74556260d",
            "5b72947721214c599124e0c65b23508a",
            "c12e44ba88ee42fe87308bd55f3b5c31",
            "86a4fb039d7b4481b124f0b49229950e",
            "9bfb5941fe834a30bb78894299d756a1",
            "195b8aa90c944714b841f2366c842d81",
            "f787c5e47df643c3ba0027a87c8ebfc5",
            "adfee812393346b985120681d995e75b",
            "014c2143f204413bb1f8f9e164b2656b",
            "28960ab5b560487dbad97e7fbb5a8cd9",
            "997d0b73342b44d7af90eb538b3ed1d3",
            "84c9b8f5340946d4b6008c74fad70b0d",
            "bc21634df8e14757b20d08e00f84d7b7",
            "ad300145aad14d7c88ea07141cd2bb1c",
            "bbe4f39ca8724e378edaa2bdb0594775",
            "48596c26d1e648f9a168b366fb29fbdd",
            "b402c6c5a0c84abe8748d504e4775e39",
            "fc2b364d607048649e3e1d3bf8626101",
            "c0e572f350284b3f98668565023f5217",
            "b6b0786bb5c24ab9a03e8506d33b5e9a",
            "6e4fccae0ff64cd6a80cac4af8645ce5",
            "78fc0faad1c14007a626cab0876f78af"
          ]
        },
        "outputId": "a1097101-f3e6-46ba-e1d6-be57c11c6131"
      },
      "execution_count": 14,
      "outputs": [
        {
          "output_type": "stream",
          "name": "stdout",
          "text": [
            "Initializing model with custom classification head...\n"
          ]
        },
        {
          "output_type": "display_data",
          "data": {
            "text/plain": [
              "config.json:   0%|          | 0.00/502 [00:00<?, ?B/s]"
            ],
            "application/vnd.jupyter.widget-view+json": {
              "version_major": 2,
              "version_minor": 0,
              "model_id": "21c2d62800a542228f64a2c74556260d"
            }
          },
          "metadata": {}
        },
        {
          "output_type": "display_data",
          "data": {
            "text/plain": [
              "model.safetensors:   0%|          | 0.00/346M [00:00<?, ?B/s]"
            ],
            "application/vnd.jupyter.widget-view+json": {
              "version_major": 2,
              "version_minor": 0,
              "model_id": "84c9b8f5340946d4b6008c74fad70b0d"
            }
          },
          "metadata": {}
        },
        {
          "output_type": "stream",
          "name": "stderr",
          "text": [
            "Some weights of ViTForImageClassification were not initialized from the model checkpoint at google/vit-base-patch16-224-in21k and are newly initialized: ['classifier.bias', 'classifier.weight']\n",
            "You should probably TRAIN this model on a down-stream task to be able to use it for predictions and inference.\n"
          ]
        },
        {
          "output_type": "stream",
          "name": "stdout",
          "text": [
            "Model initialized. Moving to cuda...\n",
            "Classification head weights: torch.Size([2, 768])\n",
            "Classification head bias: torch.Size([2])\n"
          ]
        }
      ]
    },
    {
      "cell_type": "code",
      "source": [
        "# Configure training parameters\n",
        "def configure_optimizer(model):\n",
        "    # Separate parameters for backbone and head\n",
        "    backbone_params = []\n",
        "    head_params = []\n",
        "    for name, param in model.named_parameters():\n",
        "        if 'classifier' in name:\n",
        "            head_params.append(param)\n",
        "        else:\n",
        "            backbone_params.append(param)\n",
        "\n",
        "    # Different learning rates for different parts\n",
        "    optimizer = torch.optim.AdamW([\n",
        "        {'params': backbone_params, 'lr': 5e-5},  # Lower LR for backbone\n",
        "        {'params': head_params, 'lr': 1e-4}       # Higher LR for new head\n",
        "    ], weight_decay=0.01)\n",
        "\n",
        "    return optimizer\n",
        "\n",
        "optimizer_vit = configure_optimizer(model)"
      ],
      "metadata": {
        "id": "ABLFYuTWcvdy"
      },
      "execution_count": 15,
      "outputs": []
    },
    {
      "cell_type": "code",
      "source": [
        "loss_fn = torch.nn.CrossEntropyLoss()\n",
        "num_epochs = 30"
      ],
      "metadata": {
        "id": "kwJSOKBja1Oq"
      },
      "execution_count": 18,
      "outputs": []
    },
    {
      "cell_type": "code",
      "source": [],
      "metadata": {
        "id": "Ta__qS0lbBm4"
      },
      "execution_count": null,
      "outputs": []
    },
    {
      "cell_type": "code",
      "source": [
        "# Run training\n",
        "print(\"\\n--- Training ViT (Advanced Model) ---\")\n",
        "vit_train_losses, vit_val_losses, vit_train_accs, vit_val_accs = generic_train_model(\n",
        "    model=model, # This should be your ViT model\n",
        "    train_loader=train_loader, # ViT's train loader\n",
        "    val_loader=val_loader,   # ViT's val loader\n",
        "    optimizer=optimizer_vit, # ViT's optimizer (the one from configure_optimizer)\n",
        "    loss_fn=loss_fn,       # ViT's loss function\n",
        "    device=device,\n",
        "    num_epochs=num_epochs, # num_epochs for ViT\n",
        "    model_name=\"ViT_Advanced\"\n",
        ")"
      ],
      "metadata": {
        "id": "GIzCM0UBdcSK",
        "colab": {
          "base_uri": "https://localhost:8080/"
        },
        "outputId": "4d4e9022-7527-49db-d143-ea0771abb276"
      },
      "execution_count": 19,
      "outputs": [
        {
          "output_type": "stream",
          "name": "stdout",
          "text": [
            "\n",
            "--- Training ViT (Advanced Model) ---\n",
            "\n",
            "--- Training ViT_Advanced ---\n"
          ]
        },
        {
          "output_type": "stream",
          "name": "stderr",
          "text": [
            "Epoch 1/30 [ViT_Advanced Train]: 100%|██████████| 323/323 [03:26<00:00,  1.57it/s, loss=0.0361, acc=98.7]\n",
            "Epoch 1/30 [ViT_Advanced Val]: 100%|██████████| 47/47 [00:12<00:00,  3.62it/s, loss=0.128, acc=95.9]\n"
          ]
        },
        {
          "output_type": "stream",
          "name": "stdout",
          "text": [
            "\n",
            "Epoch 1 Summary for ViT_Advanced:\n",
            "Train Loss: 0.0361 | Train Acc: 98.66%\n",
            "Val Loss: 0.1285   | Val Acc: 95.93%\n"
          ]
        },
        {
          "output_type": "stream",
          "name": "stderr",
          "text": [
            "Epoch 2/30 [ViT_Advanced Train]: 100%|██████████| 323/323 [03:25<00:00,  1.57it/s, loss=0.0248, acc=99.1]\n",
            "Epoch 2/30 [ViT_Advanced Val]: 100%|██████████| 47/47 [00:12<00:00,  3.62it/s, loss=0.159, acc=96.3]\n"
          ]
        },
        {
          "output_type": "stream",
          "name": "stdout",
          "text": [
            "\n",
            "Epoch 2 Summary for ViT_Advanced:\n",
            "Train Loss: 0.0248 | Train Acc: 99.13%\n",
            "Val Loss: 0.1591   | Val Acc: 96.34%\n"
          ]
        },
        {
          "output_type": "stream",
          "name": "stderr",
          "text": [
            "Epoch 3/30 [ViT_Advanced Train]: 100%|██████████| 323/323 [03:25<00:00,  1.57it/s, loss=0.0257, acc=99.2]\n",
            "Epoch 3/30 [ViT_Advanced Val]: 100%|██████████| 47/47 [00:13<00:00,  3.56it/s, loss=0.115, acc=97]\n"
          ]
        },
        {
          "output_type": "stream",
          "name": "stdout",
          "text": [
            "\n",
            "Epoch 3 Summary for ViT_Advanced:\n",
            "Train Loss: 0.0257 | Train Acc: 99.24%\n",
            "Val Loss: 0.1147   | Val Acc: 97.01%\n"
          ]
        },
        {
          "output_type": "stream",
          "name": "stderr",
          "text": [
            "Epoch 4/30 [ViT_Advanced Train]: 100%|██████████| 323/323 [03:25<00:00,  1.57it/s, loss=0.024, acc=99.5]\n",
            "Epoch 4/30 [ViT_Advanced Val]: 100%|██████████| 47/47 [00:12<00:00,  3.63it/s, loss=0.185, acc=94.3]\n"
          ]
        },
        {
          "output_type": "stream",
          "name": "stdout",
          "text": [
            "\n",
            "Epoch 4 Summary for ViT_Advanced:\n",
            "Train Loss: 0.0240 | Train Acc: 99.48%\n",
            "Val Loss: 0.1849   | Val Acc: 94.30%\n"
          ]
        },
        {
          "output_type": "stream",
          "name": "stderr",
          "text": [
            "Epoch 5/30 [ViT_Advanced Train]: 100%|██████████| 323/323 [03:25<00:00,  1.57it/s, loss=0.0298, acc=98.9]\n",
            "Epoch 5/30 [ViT_Advanced Val]: 100%|██████████| 47/47 [00:12<00:00,  3.64it/s, loss=0.123, acc=96.9]\n"
          ]
        },
        {
          "output_type": "stream",
          "name": "stdout",
          "text": [
            "\n",
            "Epoch 5 Summary for ViT_Advanced:\n",
            "Train Loss: 0.0298 | Train Acc: 98.89%\n",
            "Val Loss: 0.1232   | Val Acc: 96.88%\n"
          ]
        },
        {
          "output_type": "stream",
          "name": "stderr",
          "text": [
            "Epoch 6/30 [ViT_Advanced Train]: 100%|██████████| 323/323 [03:25<00:00,  1.57it/s, loss=0.00718, acc=99.7]\n",
            "Epoch 6/30 [ViT_Advanced Val]: 100%|██████████| 47/47 [00:12<00:00,  3.64it/s, loss=0.184, acc=96.3]\n"
          ]
        },
        {
          "output_type": "stream",
          "name": "stdout",
          "text": [
            "\n",
            "Epoch 6 Summary for ViT_Advanced:\n",
            "Train Loss: 0.0072 | Train Acc: 99.75%\n",
            "Val Loss: 0.1840   | Val Acc: 96.34%\n"
          ]
        },
        {
          "output_type": "stream",
          "name": "stderr",
          "text": [
            "Epoch 7/30 [ViT_Advanced Train]: 100%|██████████| 323/323 [03:25<00:00,  1.57it/s, loss=0.00516, acc=99.8]\n",
            "Epoch 7/30 [ViT_Advanced Val]: 100%|██████████| 47/47 [00:12<00:00,  3.62it/s, loss=0.137, acc=96.5]\n"
          ]
        },
        {
          "output_type": "stream",
          "name": "stdout",
          "text": [
            "\n",
            "Epoch 7 Summary for ViT_Advanced:\n",
            "Train Loss: 0.0052 | Train Acc: 99.81%\n",
            "Val Loss: 0.1366   | Val Acc: 96.47%\n"
          ]
        },
        {
          "output_type": "stream",
          "name": "stderr",
          "text": [
            "Epoch 8/30 [ViT_Advanced Train]: 100%|██████████| 323/323 [03:25<00:00,  1.57it/s, loss=0.0304, acc=99.2]\n",
            "Epoch 8/30 [ViT_Advanced Val]: 100%|██████████| 47/47 [00:13<00:00,  3.61it/s, loss=0.169, acc=95.5]\n"
          ]
        },
        {
          "output_type": "stream",
          "name": "stdout",
          "text": [
            "\n",
            "Epoch 8 Summary for ViT_Advanced:\n",
            "Train Loss: 0.0304 | Train Acc: 99.19%\n",
            "Val Loss: 0.1689   | Val Acc: 95.52%\n"
          ]
        },
        {
          "output_type": "stream",
          "name": "stderr",
          "text": [
            "Epoch 9/30 [ViT_Advanced Train]: 100%|██████████| 323/323 [03:25<00:00,  1.57it/s, loss=0.00343, acc=99.9]\n",
            "Epoch 9/30 [ViT_Advanced Val]: 100%|██████████| 47/47 [00:13<00:00,  3.59it/s, loss=0.144, acc=96.9]\n"
          ]
        },
        {
          "output_type": "stream",
          "name": "stdout",
          "text": [
            "\n",
            "Epoch 9 Summary for ViT_Advanced:\n",
            "Train Loss: 0.0034 | Train Acc: 99.86%\n",
            "Val Loss: 0.1441   | Val Acc: 96.88%\n"
          ]
        },
        {
          "output_type": "stream",
          "name": "stderr",
          "text": [
            "Epoch 10/30 [ViT_Advanced Train]: 100%|██████████| 323/323 [03:25<00:00,  1.57it/s, loss=4.42e-5, acc=100]\n",
            "Epoch 10/30 [ViT_Advanced Val]: 100%|██████████| 47/47 [00:13<00:00,  3.55it/s, loss=0.145, acc=96.9]\n"
          ]
        },
        {
          "output_type": "stream",
          "name": "stdout",
          "text": [
            "\n",
            "Epoch 10 Summary for ViT_Advanced:\n",
            "Train Loss: 0.0000 | Train Acc: 100.00%\n",
            "Val Loss: 0.1454   | Val Acc: 96.88%\n"
          ]
        },
        {
          "output_type": "stream",
          "name": "stderr",
          "text": [
            "Epoch 11/30 [ViT_Advanced Train]: 100%|██████████| 323/323 [03:25<00:00,  1.57it/s, loss=1.28e-5, acc=100]\n",
            "Epoch 11/30 [ViT_Advanced Val]: 100%|██████████| 47/47 [00:13<00:00,  3.58it/s, loss=0.15, acc=96.9]\n"
          ]
        },
        {
          "output_type": "stream",
          "name": "stdout",
          "text": [
            "\n",
            "Epoch 11 Summary for ViT_Advanced:\n",
            "Train Loss: 0.0000 | Train Acc: 100.00%\n",
            "Val Loss: 0.1495   | Val Acc: 96.88%\n"
          ]
        },
        {
          "output_type": "stream",
          "name": "stderr",
          "text": [
            "Epoch 12/30 [ViT_Advanced Train]: 100%|██████████| 323/323 [03:25<00:00,  1.57it/s, loss=9e-6, acc=100]\n",
            "Epoch 12/30 [ViT_Advanced Val]: 100%|██████████| 47/47 [00:12<00:00,  3.63it/s, loss=0.153, acc=96.9]\n"
          ]
        },
        {
          "output_type": "stream",
          "name": "stdout",
          "text": [
            "\n",
            "Epoch 12 Summary for ViT_Advanced:\n",
            "Train Loss: 0.0000 | Train Acc: 100.00%\n",
            "Val Loss: 0.1527   | Val Acc: 96.88%\n"
          ]
        },
        {
          "output_type": "stream",
          "name": "stderr",
          "text": [
            "Epoch 13/30 [ViT_Advanced Train]: 100%|██████████| 323/323 [03:25<00:00,  1.57it/s, loss=6.72e-6, acc=100]\n",
            "Epoch 13/30 [ViT_Advanced Val]: 100%|██████████| 47/47 [00:12<00:00,  3.63it/s, loss=0.156, acc=96.7]\n"
          ]
        },
        {
          "output_type": "stream",
          "name": "stdout",
          "text": [
            "\n",
            "Epoch 13 Summary for ViT_Advanced:\n",
            "Train Loss: 0.0000 | Train Acc: 100.00%\n",
            "Val Loss: 0.1558   | Val Acc: 96.74%\n"
          ]
        },
        {
          "output_type": "stream",
          "name": "stderr",
          "text": [
            "Epoch 14/30 [ViT_Advanced Train]: 100%|██████████| 323/323 [03:26<00:00,  1.57it/s, loss=5.22e-6, acc=100]\n",
            "Epoch 14/30 [ViT_Advanced Val]: 100%|██████████| 47/47 [00:13<00:00,  3.60it/s, loss=0.159, acc=96.7]\n"
          ]
        },
        {
          "output_type": "stream",
          "name": "stdout",
          "text": [
            "\n",
            "Epoch 14 Summary for ViT_Advanced:\n",
            "Train Loss: 0.0000 | Train Acc: 100.00%\n",
            "Val Loss: 0.1588   | Val Acc: 96.74%\n"
          ]
        },
        {
          "output_type": "stream",
          "name": "stderr",
          "text": [
            "Epoch 15/30 [ViT_Advanced Train]: 100%|██████████| 323/323 [03:25<00:00,  1.57it/s, loss=4.09e-6, acc=100]\n",
            "Epoch 15/30 [ViT_Advanced Val]: 100%|██████████| 47/47 [00:12<00:00,  3.63it/s, loss=0.162, acc=96.7]\n"
          ]
        },
        {
          "output_type": "stream",
          "name": "stdout",
          "text": [
            "\n",
            "Epoch 15 Summary for ViT_Advanced:\n",
            "Train Loss: 0.0000 | Train Acc: 100.00%\n",
            "Val Loss: 0.1619   | Val Acc: 96.74%\n"
          ]
        },
        {
          "output_type": "stream",
          "name": "stderr",
          "text": [
            "Epoch 16/30 [ViT_Advanced Train]: 100%|██████████| 323/323 [03:25<00:00,  1.57it/s, loss=3.21e-6, acc=100]\n",
            "Epoch 16/30 [ViT_Advanced Val]: 100%|██████████| 47/47 [00:13<00:00,  3.60it/s, loss=0.165, acc=96.7]\n"
          ]
        },
        {
          "output_type": "stream",
          "name": "stdout",
          "text": [
            "\n",
            "Epoch 16 Summary for ViT_Advanced:\n",
            "Train Loss: 0.0000 | Train Acc: 100.00%\n",
            "Val Loss: 0.1649   | Val Acc: 96.74%\n"
          ]
        },
        {
          "output_type": "stream",
          "name": "stderr",
          "text": [
            "Epoch 17/30 [ViT_Advanced Train]: 100%|██████████| 323/323 [03:25<00:00,  1.57it/s, loss=2.58e-6, acc=100]\n",
            "Epoch 17/30 [ViT_Advanced Val]: 100%|██████████| 47/47 [00:13<00:00,  3.58it/s, loss=0.168, acc=96.7]\n"
          ]
        },
        {
          "output_type": "stream",
          "name": "stdout",
          "text": [
            "\n",
            "Epoch 17 Summary for ViT_Advanced:\n",
            "Train Loss: 0.0000 | Train Acc: 100.00%\n",
            "Val Loss: 0.1678   | Val Acc: 96.74%\n"
          ]
        },
        {
          "output_type": "stream",
          "name": "stderr",
          "text": [
            "Epoch 18/30 [ViT_Advanced Train]: 100%|██████████| 323/323 [03:25<00:00,  1.57it/s, loss=2.13e-6, acc=100]\n",
            "Epoch 18/30 [ViT_Advanced Val]: 100%|██████████| 47/47 [00:13<00:00,  3.60it/s, loss=0.17, acc=96.7]\n"
          ]
        },
        {
          "output_type": "stream",
          "name": "stdout",
          "text": [
            "\n",
            "Epoch 18 Summary for ViT_Advanced:\n",
            "Train Loss: 0.0000 | Train Acc: 100.00%\n",
            "Val Loss: 0.1705   | Val Acc: 96.74%\n"
          ]
        },
        {
          "output_type": "stream",
          "name": "stderr",
          "text": [
            "Epoch 19/30 [ViT_Advanced Train]: 100%|██████████| 323/323 [03:25<00:00,  1.57it/s, loss=1.67e-6, acc=100]\n",
            "Epoch 19/30 [ViT_Advanced Val]: 100%|██████████| 47/47 [00:12<00:00,  3.63it/s, loss=0.173, acc=96.7]\n"
          ]
        },
        {
          "output_type": "stream",
          "name": "stdout",
          "text": [
            "\n",
            "Epoch 19 Summary for ViT_Advanced:\n",
            "Train Loss: 0.0000 | Train Acc: 100.00%\n",
            "Val Loss: 0.1734   | Val Acc: 96.74%\n"
          ]
        },
        {
          "output_type": "stream",
          "name": "stderr",
          "text": [
            "Epoch 20/30 [ViT_Advanced Train]: 100%|██████████| 323/323 [03:25<00:00,  1.57it/s, loss=1.36e-6, acc=100]\n",
            "Epoch 20/30 [ViT_Advanced Val]: 100%|██████████| 47/47 [00:12<00:00,  3.63it/s, loss=0.176, acc=96.7]\n"
          ]
        },
        {
          "output_type": "stream",
          "name": "stdout",
          "text": [
            "\n",
            "Epoch 20 Summary for ViT_Advanced:\n",
            "Train Loss: 0.0000 | Train Acc: 100.00%\n",
            "Val Loss: 0.1762   | Val Acc: 96.74%\n"
          ]
        },
        {
          "output_type": "stream",
          "name": "stderr",
          "text": [
            "Epoch 21/30 [ViT_Advanced Train]: 100%|██████████| 323/323 [03:25<00:00,  1.57it/s, loss=1.11e-6, acc=100]\n",
            "Epoch 21/30 [ViT_Advanced Val]: 100%|██████████| 47/47 [00:12<00:00,  3.63it/s, loss=0.179, acc=96.7]\n"
          ]
        },
        {
          "output_type": "stream",
          "name": "stdout",
          "text": [
            "\n",
            "Epoch 21 Summary for ViT_Advanced:\n",
            "Train Loss: 0.0000 | Train Acc: 100.00%\n",
            "Val Loss: 0.1791   | Val Acc: 96.74%\n"
          ]
        },
        {
          "output_type": "stream",
          "name": "stderr",
          "text": [
            "Epoch 22/30 [ViT_Advanced Train]: 100%|██████████| 323/323 [03:25<00:00,  1.57it/s, loss=9.16e-7, acc=100]\n",
            "Epoch 22/30 [ViT_Advanced Val]: 100%|██████████| 47/47 [00:12<00:00,  3.62it/s, loss=0.182, acc=96.7]\n"
          ]
        },
        {
          "output_type": "stream",
          "name": "stdout",
          "text": [
            "\n",
            "Epoch 22 Summary for ViT_Advanced:\n",
            "Train Loss: 0.0000 | Train Acc: 100.00%\n",
            "Val Loss: 0.1818   | Val Acc: 96.74%\n"
          ]
        },
        {
          "output_type": "stream",
          "name": "stderr",
          "text": [
            "Epoch 23/30 [ViT_Advanced Train]: 100%|██████████| 323/323 [03:25<00:00,  1.57it/s, loss=7.44e-7, acc=100]\n",
            "Epoch 23/30 [ViT_Advanced Val]: 100%|██████████| 47/47 [00:12<00:00,  3.63it/s, loss=0.185, acc=96.7]\n"
          ]
        },
        {
          "output_type": "stream",
          "name": "stdout",
          "text": [
            "\n",
            "Epoch 23 Summary for ViT_Advanced:\n",
            "Train Loss: 0.0000 | Train Acc: 100.00%\n",
            "Val Loss: 0.1845   | Val Acc: 96.74%\n"
          ]
        },
        {
          "output_type": "stream",
          "name": "stderr",
          "text": [
            "Epoch 24/30 [ViT_Advanced Train]: 100%|██████████| 323/323 [03:25<00:00,  1.57it/s, loss=6.1e-7, acc=100]\n",
            "Epoch 24/30 [ViT_Advanced Val]: 100%|██████████| 47/47 [00:12<00:00,  3.64it/s, loss=0.187, acc=96.7]\n"
          ]
        },
        {
          "output_type": "stream",
          "name": "stdout",
          "text": [
            "\n",
            "Epoch 24 Summary for ViT_Advanced:\n",
            "Train Loss: 0.0000 | Train Acc: 100.00%\n",
            "Val Loss: 0.1874   | Val Acc: 96.74%\n"
          ]
        },
        {
          "output_type": "stream",
          "name": "stderr",
          "text": [
            "Epoch 25/30 [ViT_Advanced Train]: 100%|██████████| 323/323 [03:25<00:00,  1.57it/s, loss=5.03e-7, acc=100]\n",
            "Epoch 25/30 [ViT_Advanced Val]: 100%|██████████| 47/47 [00:13<00:00,  3.57it/s, loss=0.19, acc=96.7]\n"
          ]
        },
        {
          "output_type": "stream",
          "name": "stdout",
          "text": [
            "\n",
            "Epoch 25 Summary for ViT_Advanced:\n",
            "Train Loss: 0.0000 | Train Acc: 100.00%\n",
            "Val Loss: 0.1900   | Val Acc: 96.74%\n"
          ]
        },
        {
          "output_type": "stream",
          "name": "stderr",
          "text": [
            "Epoch 26/30 [ViT_Advanced Train]: 100%|██████████| 323/323 [03:25<00:00,  1.57it/s, loss=4.13e-7, acc=100]\n",
            "Epoch 26/30 [ViT_Advanced Val]: 100%|██████████| 47/47 [00:13<00:00,  3.61it/s, loss=0.193, acc=96.7]\n"
          ]
        },
        {
          "output_type": "stream",
          "name": "stdout",
          "text": [
            "\n",
            "Epoch 26 Summary for ViT_Advanced:\n",
            "Train Loss: 0.0000 | Train Acc: 100.00%\n",
            "Val Loss: 0.1928   | Val Acc: 96.74%\n"
          ]
        },
        {
          "output_type": "stream",
          "name": "stderr",
          "text": [
            "Epoch 27/30 [ViT_Advanced Train]: 100%|██████████| 323/323 [03:25<00:00,  1.57it/s, loss=3.4e-7, acc=100]\n",
            "Epoch 27/30 [ViT_Advanced Val]: 100%|██████████| 47/47 [00:13<00:00,  3.61it/s, loss=0.196, acc=96.7]\n"
          ]
        },
        {
          "output_type": "stream",
          "name": "stdout",
          "text": [
            "\n",
            "Epoch 27 Summary for ViT_Advanced:\n",
            "Train Loss: 0.0000 | Train Acc: 100.00%\n",
            "Val Loss: 0.1956   | Val Acc: 96.74%\n"
          ]
        },
        {
          "output_type": "stream",
          "name": "stderr",
          "text": [
            "Epoch 28/30 [ViT_Advanced Train]: 100%|██████████| 323/323 [03:25<00:00,  1.57it/s, loss=2.81e-7, acc=100]\n",
            "Epoch 28/30 [ViT_Advanced Val]: 100%|██████████| 47/47 [00:13<00:00,  3.60it/s, loss=0.198, acc=96.7]\n"
          ]
        },
        {
          "output_type": "stream",
          "name": "stdout",
          "text": [
            "\n",
            "Epoch 28 Summary for ViT_Advanced:\n",
            "Train Loss: 0.0000 | Train Acc: 100.00%\n",
            "Val Loss: 0.1983   | Val Acc: 96.74%\n"
          ]
        },
        {
          "output_type": "stream",
          "name": "stderr",
          "text": [
            "Epoch 29/30 [ViT_Advanced Train]: 100%|██████████| 323/323 [03:25<00:00,  1.57it/s, loss=2.34e-7, acc=100]\n",
            "Epoch 29/30 [ViT_Advanced Val]: 100%|██████████| 47/47 [00:12<00:00,  3.62it/s, loss=0.201, acc=96.7]\n"
          ]
        },
        {
          "output_type": "stream",
          "name": "stdout",
          "text": [
            "\n",
            "Epoch 29 Summary for ViT_Advanced:\n",
            "Train Loss: 0.0000 | Train Acc: 100.00%\n",
            "Val Loss: 0.2010   | Val Acc: 96.74%\n"
          ]
        },
        {
          "output_type": "stream",
          "name": "stderr",
          "text": [
            "Epoch 30/30 [ViT_Advanced Train]: 100%|██████████| 323/323 [03:25<00:00,  1.57it/s, loss=1.91e-7, acc=100]\n",
            "Epoch 30/30 [ViT_Advanced Val]: 100%|██████████| 47/47 [00:12<00:00,  3.64it/s, loss=0.204, acc=96.7]"
          ]
        },
        {
          "output_type": "stream",
          "name": "stdout",
          "text": [
            "\n",
            "Epoch 30 Summary for ViT_Advanced:\n",
            "Train Loss: 0.0000 | Train Acc: 100.00%\n",
            "Val Loss: 0.2038   | Val Acc: 96.74%\n"
          ]
        },
        {
          "output_type": "stream",
          "name": "stderr",
          "text": [
            "\n"
          ]
        }
      ]
    },
    {
      "cell_type": "code",
      "source": [
        "# 8. Plot Training and Validation Metrics\n",
        "plot_training_history(vit_train_losses, vit_val_losses, vit_train_accs, vit_val_accs, \"ViT_Advanced\")"
      ],
      "metadata": {
        "id": "MYhZ8A_RdhiP",
        "colab": {
          "base_uri": "https://localhost:8080/",
          "height": 407
        },
        "outputId": "dcc44fc9-a017-419b-9f6e-eb2568170957"
      },
      "execution_count": 20,
      "outputs": [
        {
          "output_type": "display_data",
          "data": {
            "text/plain": [
              "<Figure size 1200x400 with 2 Axes>"
            ],
            "image/png": "[encoded data removed]"
          },
          "metadata": {}
        }
      ]
    },
    {
      "cell_type": "code",
      "source": [
        "# 9. Evaluate the Model on the Test Set\n",
        "avg_test_loss_vit, test_accuracy_vit, _, _ = generic_evaluate_model(\n",
        "    model=model, # Your ViT model\n",
        "    test_loader=test_loader, # ViT's test loader\n",
        "    device=device,\n",
        "    loss_fn=loss_fn, # ViT's loss function\n",
        "    id2label=model.config.id2label, # ViT's id2label from its config\n",
        "    model_name=\"ViT_Advanced\"\n",
        ")"
      ],
      "metadata": {
        "id": "XdrbfkakKNaN",
        "colab": {
          "base_uri": "https://localhost:8080/",
          "height": 909
        },
        "outputId": "e299b6de-7af6-4933-ffee-8b85cf429a23"
      },
      "execution_count": 21,
      "outputs": [
        {
          "output_type": "stream",
          "name": "stdout",
          "text": [
            "\n",
            "--- Evaluating ViT_Advanced on the test set ---\n"
          ]
        },
        {
          "output_type": "stream",
          "name": "stderr",
          "text": [
            "ViT_Advanced Test Evaluation: 100%|██████████| 93/93 [00:26<00:00,  3.56it/s, loss=0.382, acc=95.2]"
          ]
        },
        {
          "output_type": "stream",
          "name": "stdout",
          "text": [
            "\n",
            "ViT_Advanced Test Loss: 0.3820\n",
            "ViT_Advanced Test Accuracy: 95.18%\n",
            "\n",
            "Classification Report:\n",
            "              precision    recall  f1-score   support\n",
            "\n",
            "    inme yok     0.9669    0.9085    0.9368       579\n",
            "    inme var     0.9430    0.9799    0.9611       895\n",
            "\n",
            "    accuracy                         0.9518      1474\n",
            "   macro avg     0.9550    0.9442    0.9489      1474\n",
            "weighted avg     0.9524    0.9518    0.9515      1474\n",
            "\n",
            "\n",
            "Confusion Matrix:\n"
          ]
        },
        {
          "output_type": "stream",
          "name": "stderr",
          "text": [
            "\n"
          ]
        },
        {
          "output_type": "display_data",
          "data": {
            "text/plain": [
              "<Figure size 800x600 with 2 Axes>"
            ],
            "image/png": "[encoded data removed]"
          },
          "metadata": {}
        }
      ]
    },
    {
      "cell_type": "code",
      "source": [],
      "metadata": {
        "id": "xHmK5qjkKTWB"
      },
      "execution_count": null,
      "outputs": []
    }
  ]
}